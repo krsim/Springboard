{
 "cells": [
  {
   "cell_type": "markdown",
   "metadata": {
    "colab_type": "text",
    "id": "Tia3MP1SJpgj"
   },
   "source": [
    "# Springboard Data Science Career Track Unit 4 Challenge - Tier 3 Complete\n",
    "\n",
    "## Objectives\n",
    "Hey! Great job getting through those challenging DataCamp courses. You're learning a lot in a short span of time. \n",
    "\n",
    "In this notebook, you're going to apply the skills you've been learning, bridging the gap between the controlled environment of DataCamp and the *slightly* messier work that data scientists do with actual datasets!\n",
    "\n",
    "Here’s the mystery we’re going to solve: ***which boroughs of London have seen the greatest increase in housing prices, on average, over the last two decades?***\n",
    "\n",
    "\n",
    "A borough is just a fancy word for district. You may be familiar with the five boroughs of New York… well, there are 32 boroughs within Greater London [(here's some info for the curious)](https://en.wikipedia.org/wiki/London_boroughs). Some of them are more desirable areas to live in, and the data will reflect that with a greater rise in housing prices.\n",
    "\n",
    "***This is the Tier 3 notebook, which means it's not filled in at all: we'll just give you the skeleton of a project, the brief and the data. It's up to you to play around with it and see what you can find out! Good luck! If you struggle, feel free to look at easier tiers for help; but try to dip in and out of them, as the more independent work you do, the better it is for your learning!***\n",
    "\n",
    "This challenge will make use of only what you learned in the following DataCamp courses: \n",
    "- Prework courses (Introduction to Python for Data Science, Intermediate Python for Data Science)\n",
    "- Data Types for Data Science\n",
    "- Python Data Science Toolbox (Part One) \n",
    "- pandas Foundations\n",
    "- Manipulating DataFrames with pandas\n",
    "- Merging DataFrames with pandas\n",
    "\n",
    "Of the tools, techniques and concepts in the above DataCamp courses, this challenge should require the application of the following: \n",
    "- **pandas**\n",
    "    - **data ingestion and inspection** (pandas Foundations, Module One) \n",
    "    - **exploratory data analysis** (pandas Foundations, Module Two)\n",
    "    - **tidying and cleaning** (Manipulating DataFrames with pandas, Module Three) \n",
    "    - **transforming DataFrames** (Manipulating DataFrames with pandas, Module One)\n",
    "    - **subsetting DataFrames with lists** (Manipulating DataFrames with pandas, Module One) \n",
    "    - **filtering DataFrames** (Manipulating DataFrames with pandas, Module One) \n",
    "    - **grouping data** (Manipulating DataFrames with pandas, Module Four) \n",
    "    - **melting data** (Manipulating DataFrames with pandas, Module Three) \n",
    "    - **advanced indexing** (Manipulating DataFrames with pandas, Module Four) \n",
    "- **matplotlib** (Intermediate Python for Data Science, Module One)\n",
    "- **fundamental data types** (Data Types for Data Science, Module One) \n",
    "- **dictionaries** (Intermediate Python for Data Science, Module Two)\n",
    "- **handling dates and times** (Data Types for Data Science, Module Four)\n",
    "- **function definition** (Python Data Science Toolbox - Part One, Module One)\n",
    "- **default arguments, variable length, and scope** (Python Data Science Toolbox - Part One, Module Two) \n",
    "- **lambda functions and error handling** (Python Data Science Toolbox - Part One, Module Four) "
   ]
  },
  {
   "cell_type": "markdown",
   "metadata": {
    "colab_type": "text",
    "id": "Ipgd2nV8Jpgl"
   },
   "source": [
    "## The Data Science Pipeline\n",
    "\n",
    "This is Tier Three, so we'll get you started. But after that, it's all in your hands! When you feel done with your investigations, look back over what you've accomplished, and prepare a quick presentation of your findings for the next mentor meeting. \n",
    "\n",
    "Data Science is magical. In this case study, you'll get to apply some complex machine learning algorithms. But as  [David Spiegelhalter](https://www.youtube.com/watch?v=oUs1uvsz0Ok) reminds us, there is no substitute for simply **taking a really, really good look at the data.** Sometimes, this is all we need to answer our question.\n",
    "\n",
    "Data Science projects generally adhere to the four stages of Data Science Pipeline:\n",
    "1. Sourcing and loading \n",
    "2. Cleaning, transforming, and visualizing \n",
    "3. Modeling \n",
    "4. Evaluating and concluding \n"
   ]
  },
  {
   "cell_type": "markdown",
   "metadata": {
    "colab_type": "text",
    "id": "zswDqbefJpgm"
   },
   "source": [
    "### 1. Sourcing and Loading \n",
    "\n",
    "Any Data Science project kicks off by importing  ***pandas***. The documentation of this wonderful library can be found [here](https://pandas.pydata.org/). As you've seen, pandas is conveniently connected to the [Numpy](http://www.numpy.org/) and [Matplotlib](https://matplotlib.org/) libraries. \n",
    "\n",
    "***Hint:*** This part of the data science pipeline will test those skills you acquired in the pandas Foundations course, Module One. "
   ]
  },
  {
   "cell_type": "markdown",
   "metadata": {
    "colab_type": "text",
    "id": "aEau5nEvJpgm"
   },
   "source": [
    "#### 1.1. Importing Libraries"
   ]
  },
  {
   "cell_type": "code",
   "execution_count": 1,
   "metadata": {
    "colab": {},
    "colab_type": "code",
    "id": "7Bt_Q_oPJpgn"
   },
   "outputs": [],
   "source": [
    "# Let's import the pandas, numpy libraries as pd, and np respectively. \n",
    "import pandas as pd\n",
    "import numpy as np\n",
    "\n",
    "# Load the pyplot collection of functions from matplotlib, as plt \n",
    "import matplotlib.pyplot as plt"
   ]
  },
  {
   "cell_type": "markdown",
   "metadata": {
    "colab_type": "text",
    "id": "koUrawxsJpgq"
   },
   "source": [
    "#### 1.2.  Loading the data\n",
    "Your data comes from the [London Datastore](https://data.london.gov.uk/): a free, open-source data-sharing portal for London-oriented datasets. "
   ]
  },
  {
   "cell_type": "code",
   "execution_count": 2,
   "metadata": {
    "colab": {},
    "colab_type": "code",
    "id": "AiLiD4v3Jpgr"
   },
   "outputs": [],
   "source": [
    "# First, make a variable called url_LondonHousePrices, and assign it the following link, enclosed in quotation-marks as a string:\n",
    "# https://data.london.gov.uk/download/uk-house-price-index/70ac0766-8902-4eb5-aab5-01951aaed773/UK%20House%20price%20index.xls\n",
    "\n",
    "url_LondonHousePrices = \"https://data.london.gov.uk/download/uk-house-price-index/70ac0766-8902-4eb5-aab5-01951aaed773/UK%20House%20price%20index.xls\"\n",
    "\n",
    "# The dataset we're interested in contains the Average prices of the houses, and is actually on a particular sheet of the Excel file. \n",
    "# As a result, we need to specify the sheet name in the read_excel() method.\n",
    "# Put this data into a variable called properties.  \n",
    "properties = pd.read_excel(url_LondonHousePrices, sheet_name='Average price', index_col= None)"
   ]
  },
  {
   "cell_type": "markdown",
   "metadata": {
    "colab_type": "text",
    "id": "POukEJXgJpgu"
   },
   "source": [
    "### 2. Cleaning, transforming, and visualizing\n",
    "This second stage is arguably the most important part of any Data Science project. The first thing to do is take a proper look at the data. Cleaning forms the majority of this stage, and can be done both before or after Transformation.\n",
    "\n",
    "The end goal of data cleaning is to have tidy data. When data is tidy: \n",
    "\n",
    "1. Each variable has a column.\n",
    "2. Each observation forms a row.\n",
    "\n",
    "Keep the end goal in mind as you move through this process, every step will take you closer. \n",
    "\n",
    "\n",
    "\n",
    "***Hint:*** This part of the data science pipeline should test those skills you acquired in: \n",
    "- Intermediate Python for data science, all modules.\n",
    "- pandas Foundations, all modules. \n",
    "- Manipulating DataFrames with pandas, all modules.\n",
    "- Data Types for Data Science, Module Four.\n",
    "- Python Data Science Toolbox - Part One, all modules"
   ]
  },
  {
   "cell_type": "markdown",
   "metadata": {
    "colab_type": "text",
    "id": "Te0Q548tnzZa"
   },
   "source": [
    "**2.1. Exploring your data** \n",
    "\n",
    "Think about your pandas functions for checking out a dataframe. "
   ]
  },
  {
   "cell_type": "code",
   "execution_count": 3,
   "metadata": {
    "colab": {},
    "colab_type": "code",
    "id": "Rxirxw_qoAJa"
   },
   "outputs": [
    {
     "name": "stdout",
     "output_type": "stream",
     "text": [
      "<class 'pandas.core.frame.DataFrame'>\n",
      "RangeIndex: 318 entries, 0 to 317\n",
      "Data columns (total 49 columns):\n",
      " #   Column                Non-Null Count  Dtype         \n",
      "---  ------                --------------  -----         \n",
      " 0   Unnamed: 0            317 non-null    datetime64[ns]\n",
      " 1   City of London        318 non-null    object        \n",
      " 2   Barking & Dagenham    318 non-null    object        \n",
      " 3   Barnet                318 non-null    object        \n",
      " 4   Bexley                318 non-null    object        \n",
      " 5   Brent                 318 non-null    object        \n",
      " 6   Bromley               318 non-null    object        \n",
      " 7   Camden                318 non-null    object        \n",
      " 8   Croydon               318 non-null    object        \n",
      " 9   Ealing                318 non-null    object        \n",
      " 10  Enfield               318 non-null    object        \n",
      " 11  Greenwich             318 non-null    object        \n",
      " 12  Hackney               318 non-null    object        \n",
      " 13  Hammersmith & Fulham  318 non-null    object        \n",
      " 14  Haringey              318 non-null    object        \n",
      " 15  Harrow                318 non-null    object        \n",
      " 16  Havering              318 non-null    object        \n",
      " 17  Hillingdon            318 non-null    object        \n",
      " 18  Hounslow              318 non-null    object        \n",
      " 19  Islington             318 non-null    object        \n",
      " 20  Kensington & Chelsea  318 non-null    object        \n",
      " 21  Kingston upon Thames  318 non-null    object        \n",
      " 22  Lambeth               318 non-null    object        \n",
      " 23  Lewisham              318 non-null    object        \n",
      " 24  Merton                318 non-null    object        \n",
      " 25  Newham                318 non-null    object        \n",
      " 26  Redbridge             318 non-null    object        \n",
      " 27  Richmond upon Thames  318 non-null    object        \n",
      " 28  Southwark             318 non-null    object        \n",
      " 29  Sutton                318 non-null    object        \n",
      " 30  Tower Hamlets         318 non-null    object        \n",
      " 31  Waltham Forest        318 non-null    object        \n",
      " 32  Wandsworth            318 non-null    object        \n",
      " 33  Westminster           318 non-null    object        \n",
      " 34  Unnamed: 34           0 non-null      float64       \n",
      " 35  Inner London          318 non-null    object        \n",
      " 36  Outer London          318 non-null    object        \n",
      " 37  Unnamed: 37           0 non-null      float64       \n",
      " 38  NORTH EAST            318 non-null    object        \n",
      " 39  NORTH WEST            318 non-null    object        \n",
      " 40  YORKS & THE HUMBER    318 non-null    object        \n",
      " 41  EAST MIDLANDS         318 non-null    object        \n",
      " 42  WEST MIDLANDS         318 non-null    object        \n",
      " 43  EAST OF ENGLAND       318 non-null    object        \n",
      " 44  LONDON                318 non-null    object        \n",
      " 45  SOUTH EAST            318 non-null    object        \n",
      " 46  SOUTH WEST            318 non-null    object        \n",
      " 47  Unnamed: 47           0 non-null      float64       \n",
      " 48  England               318 non-null    object        \n",
      "dtypes: datetime64[ns](1), float64(3), object(45)\n",
      "memory usage: 121.9+ KB\n",
      "None\n",
      "  Unnamed: 0 City of London Barking & Dagenham     Barnet     Bexley  \\\n",
      "0        NaT      E09000001          E09000002  E09000003  E09000004   \n",
      "1 1995-01-01          91449            50460.2    93284.5    64958.1   \n",
      "2 1995-02-01        82202.8            51085.8    93190.2    64787.9   \n",
      "3 1995-03-01        79120.7              51269    92247.5    64367.5   \n",
      "4 1995-04-01        77101.2            53133.5    90762.9    64277.7   \n",
      "\n",
      "       Brent    Bromley     Camden    Croydon     Ealing  ... NORTH WEST  \\\n",
      "0  E09000005  E09000006  E09000007  E09000008  E09000009  ...  E12000002   \n",
      "1    71306.6    81671.5     120933    69158.2    79885.9  ...    43958.5   \n",
      "2    72022.3    81657.6     119509    68951.1    80897.1  ...    43925.4   \n",
      "3    72015.8    81449.3     120282    68712.4    81379.9  ...    44434.9   \n",
      "4    72965.6    81124.4     120098      68610    82188.9  ...    44267.8   \n",
      "\n",
      "  YORKS & THE HUMBER EAST MIDLANDS WEST MIDLANDS EAST OF ENGLAND     LONDON  \\\n",
      "0          E12000003     E12000004     E12000005       E12000006  E12000007   \n",
      "1            44803.4       45544.5       48527.5         56701.6    74435.8   \n",
      "2            44528.8       46051.6       49341.3         56593.6    72777.9   \n",
      "3            45200.5       45383.8       49442.2         56171.2    73896.8   \n",
      "4            45614.3       46124.2       49455.9         56567.9    74455.3   \n",
      "\n",
      "  SOUTH EAST SOUTH WEST Unnamed: 47    England  \n",
      "0  E12000008  E12000009         NaN  E92000001  \n",
      "1    64018.9    54705.2         NaN    53202.8  \n",
      "2      63715    54356.1         NaN    53096.2  \n",
      "3    64113.6    53583.1         NaN    53201.3  \n",
      "4    64623.2      54786         NaN    53590.9  \n",
      "\n",
      "[5 rows x 49 columns]\n"
     ]
    }
   ],
   "source": [
    "print(properties.info())\n",
    "print(properties.head())"
   ]
  },
  {
   "cell_type": "markdown",
   "metadata": {
    "colab_type": "text",
    "id": "tE9Sqt9-oAta"
   },
   "source": [
    "**2.2. Cleaning the data**\n",
    "\n",
    "You might find you need to transpose your dataframe, check out what its row indexes are, and reset the index. You  also might find you need to assign the values of the first row to your column headings  . (Hint: recall the .columns feature of DataFrames, as well as the iloc[] method).\n",
    "\n",
    "Don't be afraid to use StackOverflow for help  with this."
   ]
  },
  {
   "cell_type": "code",
   "execution_count": 4,
   "metadata": {
    "colab": {},
    "colab_type": "code",
    "id": "cdAu1A3YoH_r"
   },
   "outputs": [
    {
     "name": "stdout",
     "output_type": "stream",
     "text": [
      "0          Unnamed: 0        NaN 1995-01-01 00:00:00 1995-02-01 00:00:00  \\\n",
      "1      City of London  E09000001               91449             82202.8   \n",
      "2  Barking & Dagenham  E09000002             50460.2             51085.8   \n",
      "3              Barnet  E09000003             93284.5             93190.2   \n",
      "4              Bexley  E09000004             64958.1             64787.9   \n",
      "5               Brent  E09000005             71306.6             72022.3   \n",
      "\n",
      "0 1995-03-01 00:00:00 1995-04-01 00:00:00 1995-05-01 00:00:00  \\\n",
      "1             79120.7             77101.2             84409.1   \n",
      "2               51269             53133.5             53042.2   \n",
      "3             92247.5             90762.9               90258   \n",
      "4             64367.5             64277.7             63997.1   \n",
      "5             72015.8             72965.6               73704   \n",
      "\n",
      "0 1995-06-01 00:00:00 1995-07-01 00:00:00 1995-08-01 00:00:00  ...  \\\n",
      "1             94900.5              110128              112329  ...   \n",
      "2             53700.3             52113.1             52232.2  ...   \n",
      "3             90107.2             91441.2             92361.3  ...   \n",
      "4             64252.3             63722.7             64432.6  ...   \n",
      "5             74310.5               74127               73547  ...   \n",
      "\n",
      "0 2020-08-01 00:00:00 2020-09-01 00:00:00 2020-10-01 00:00:00  \\\n",
      "1              827659              798499              836807   \n",
      "2              304924              301702              304852   \n",
      "3              529660              533619              530354   \n",
      "4              346680              345061              345405   \n",
      "5              497729              519562              522239   \n",
      "\n",
      "0 2020-11-01 00:00:00 2020-12-01 00:00:00 2021-01-01 00:00:00  \\\n",
      "1              769392              801999              760599   \n",
      "2              305012              309560              311007   \n",
      "3              528816              532528              538842   \n",
      "4              346253              352261              356664   \n",
      "5              513101              495067              511348   \n",
      "\n",
      "0 2021-02-01 00:00:00 2021-03-01 00:00:00 2021-04-01 00:00:00  \\\n",
      "1              729316              717528              713095   \n",
      "2              313836              314187              309681   \n",
      "3              538216              542872              545746   \n",
      "4              360116              364481              365519   \n",
      "5              514389              519213              498084   \n",
      "\n",
      "0 2021-05-01 00:00:00  \n",
      "1              765822  \n",
      "2              308760  \n",
      "3              546082  \n",
      "4              368555  \n",
      "5              508571  \n",
      "\n",
      "[5 rows x 319 columns]\n"
     ]
    }
   ],
   "source": [
    "properties_T = np.transpose(properties)\n",
    "properties_T.reset_index(inplace=True)\n",
    "header = properties_T.iloc[0]\n",
    "properties_T = properties_T.iloc[1:]\n",
    "properties_T.columns = header\n",
    "print(properties_T.head())"
   ]
  },
  {
   "cell_type": "markdown",
   "metadata": {
    "colab_type": "text",
    "id": "o1uLbJAsoIjK"
   },
   "source": [
    "**2.3. Cleaning the data (part 2)**\n",
    "\n",
    "You might we have to **rename** a couple columns. How do you do this? The clue's pretty bold..."
   ]
  },
  {
   "cell_type": "code",
   "execution_count": 14,
   "metadata": {
    "colab": {},
    "colab_type": "code",
    "id": "GKkmn1AnoVZS"
   },
   "outputs": [
    {
     "name": "stdout",
     "output_type": "stream",
     "text": [
      "Index([          'Borough',                'ID', 1995-01-01 00:00:00,\n",
      "       1995-02-01 00:00:00, 1995-03-01 00:00:00, 1995-04-01 00:00:00,\n",
      "       1995-05-01 00:00:00, 1995-06-01 00:00:00, 1995-07-01 00:00:00,\n",
      "       1995-08-01 00:00:00,\n",
      "       ...\n",
      "       2020-08-01 00:00:00, 2020-09-01 00:00:00, 2020-10-01 00:00:00,\n",
      "       2020-11-01 00:00:00, 2020-12-01 00:00:00, 2021-01-01 00:00:00,\n",
      "       2021-02-01 00:00:00, 2021-03-01 00:00:00, 2021-04-01 00:00:00,\n",
      "       2021-05-01 00:00:00],\n",
      "      dtype='object', name=0, length=319)\n"
     ]
    }
   ],
   "source": [
    "properties_T.rename(columns = {'Unnamed: 0':'Borough', pd.NaT : 'ID'}, inplace = True)\n",
    "print(properties_T.columns)"
   ]
  },
  {
   "cell_type": "markdown",
   "metadata": {
    "colab_type": "text",
    "id": "jy8BzXHmoWEw"
   },
   "source": [
    "**2.4.Transforming the data**\n",
    "\n",
    "Remember what Wes McKinney said about tidy data? \n",
    "\n",
    "You might need to **melt** your DataFrame here. "
   ]
  },
  {
   "cell_type": "code",
   "execution_count": 17,
   "metadata": {
    "colab": {},
    "colab_type": "code",
    "id": "S2wM0qLuo2Zt"
   },
   "outputs": [
    {
     "name": "stdout",
     "output_type": "stream",
     "text": [
      "              Borough         ID          0    value\n",
      "0      City of London  E09000001 1995-01-01    91449\n",
      "1  Barking & Dagenham  E09000002 1995-01-01  50460.2\n",
      "2              Barnet  E09000003 1995-01-01  93284.5\n",
      "3              Bexley  E09000004 1995-01-01  64958.1\n",
      "4               Brent  E09000005 1995-01-01  71306.6\n"
     ]
    }
   ],
   "source": [
    "properties_clean = pd.melt(properties_T, id_vars=['Borough', 'ID'])\n",
    "print(properties_clean.head())"
   ]
  },
  {
   "cell_type": "code",
   "execution_count": 24,
   "metadata": {},
   "outputs": [
    {
     "name": "stdout",
     "output_type": "stream",
     "text": [
      "              Borough         ID      Month Avg Price\n",
      "0      City of London  E09000001 1995-01-01     91449\n",
      "1  Barking & Dagenham  E09000002 1995-01-01   50460.2\n",
      "2              Barnet  E09000003 1995-01-01   93284.5\n",
      "3              Bexley  E09000004 1995-01-01   64958.1\n",
      "4               Brent  E09000005 1995-01-01   71306.6\n"
     ]
    }
   ],
   "source": [
    "properties_clean.rename(columns = {0: 'Month', 'value': 'Avg Price'}, inplace=True)\n",
    "print(properties_clean.head())"
   ]
  },
  {
   "cell_type": "markdown",
   "metadata": {
    "colab_type": "text",
    "id": "7kIsgAo7o3mf"
   },
   "source": [
    "Remember to make sure your column data types are all correct. Average prices, for example, should be floating point numbers... "
   ]
  },
  {
   "cell_type": "code",
   "execution_count": 26,
   "metadata": {
    "colab": {},
    "colab_type": "code",
    "id": "ZcR4IHbcpOaq"
   },
   "outputs": [
    {
     "name": "stdout",
     "output_type": "stream",
     "text": [
      "<class 'pandas.core.frame.DataFrame'>\n",
      "RangeIndex: 15216 entries, 0 to 15215\n",
      "Data columns (total 4 columns):\n",
      " #   Column     Non-Null Count  Dtype         \n",
      "---  ------     --------------  -----         \n",
      " 0   Borough    15216 non-null  object        \n",
      " 1   ID         14265 non-null  object        \n",
      " 2   Month      15216 non-null  datetime64[ns]\n",
      " 3   Avg Price  14265 non-null  object        \n",
      "dtypes: datetime64[ns](1), object(3)\n",
      "memory usage: 475.6+ KB\n"
     ]
    }
   ],
   "source": [
    "properties_clean.info()"
   ]
  },
  {
   "cell_type": "code",
   "execution_count": 29,
   "metadata": {},
   "outputs": [],
   "source": [
    "properties_clean = properties_clean.astype({'Avg Price':'float64'})"
   ]
  },
  {
   "cell_type": "code",
   "execution_count": 30,
   "metadata": {},
   "outputs": [
    {
     "data": {
      "text/plain": [
       "Borough              object\n",
       "ID                   object\n",
       "Month        datetime64[ns]\n",
       "Avg Price           float64\n",
       "dtype: object"
      ]
     },
     "execution_count": 30,
     "metadata": {},
     "output_type": "execute_result"
    }
   ],
   "source": [
    "properties_clean.dtypes"
   ]
  },
  {
   "cell_type": "markdown",
   "metadata": {
    "colab_type": "text",
    "id": "knLUXHLypOtw"
   },
   "source": [
    "**2.5. Cleaning the data (part 3)**\n",
    "\n",
    "Do we have an equal number of observations in the ID, Average Price, Month, and London Borough columns? Remember that there are only 32 London Boroughs. How many entries do you have in that column? \n",
    "\n",
    "Check out the contents of the London Borough column, and if you find null values, get rid of them however you see fit. "
   ]
  },
  {
   "cell_type": "code",
   "execution_count": 40,
   "metadata": {
    "colab": {},
    "colab_type": "code",
    "id": "BnvTW5a3p0fC",
    "scrolled": true
   },
   "outputs": [
    {
     "name": "stdout",
     "output_type": "stream",
     "text": [
      "['City of London' 'Barking & Dagenham' 'Barnet' 'Bexley' 'Brent' 'Bromley'\n",
      " 'Camden' 'Croydon' 'Ealing' 'Enfield' 'Greenwich' 'Hackney'\n",
      " 'Hammersmith & Fulham' 'Haringey' 'Harrow' 'Havering' 'Hillingdon'\n",
      " 'Hounslow' 'Islington' 'Kensington & Chelsea' 'Kingston upon Thames'\n",
      " 'Lambeth' 'Lewisham' 'Merton' 'Newham' 'Redbridge' 'Richmond upon Thames'\n",
      " 'Southwark' 'Sutton' 'Tower Hamlets' 'Waltham Forest' 'Wandsworth'\n",
      " 'Westminster' 'Unnamed: 34' 'Inner London' 'Outer London' 'Unnamed: 37'\n",
      " 'NORTH EAST' 'NORTH WEST' 'YORKS & THE HUMBER' 'EAST MIDLANDS'\n",
      " 'WEST MIDLANDS' 'EAST OF ENGLAND' 'LONDON' 'SOUTH EAST' 'SOUTH WEST'\n",
      " 'Unnamed: 47' 'England']\n"
     ]
    },
    {
     "data": {
      "text/plain": [
       "48"
      ]
     },
     "execution_count": 40,
     "metadata": {},
     "output_type": "execute_result"
    }
   ],
   "source": [
    "print(properties_clean['Borough'].unique())\n",
    "len(properties_clean['Borough'].unique())"
   ]
  },
  {
   "cell_type": "code",
   "execution_count": 47,
   "metadata": {},
   "outputs": [
    {
     "data": {
      "text/html": [
       "<div>\n",
       "<style scoped>\n",
       "    .dataframe tbody tr th:only-of-type {\n",
       "        vertical-align: middle;\n",
       "    }\n",
       "\n",
       "    .dataframe tbody tr th {\n",
       "        vertical-align: top;\n",
       "    }\n",
       "\n",
       "    .dataframe thead th {\n",
       "        text-align: right;\n",
       "    }\n",
       "</style>\n",
       "<table border=\"1\" class=\"dataframe\">\n",
       "  <thead>\n",
       "    <tr style=\"text-align: right;\">\n",
       "      <th></th>\n",
       "      <th>Borough</th>\n",
       "      <th>ID</th>\n",
       "      <th>Month</th>\n",
       "      <th>Avg Price</th>\n",
       "    </tr>\n",
       "  </thead>\n",
       "  <tbody>\n",
       "    <tr>\n",
       "      <th>33</th>\n",
       "      <td>Unnamed: 34</td>\n",
       "      <td>NaN</td>\n",
       "      <td>1995-01-01</td>\n",
       "      <td>NaN</td>\n",
       "    </tr>\n",
       "    <tr>\n",
       "      <th>81</th>\n",
       "      <td>Unnamed: 34</td>\n",
       "      <td>NaN</td>\n",
       "      <td>1995-02-01</td>\n",
       "      <td>NaN</td>\n",
       "    </tr>\n",
       "    <tr>\n",
       "      <th>129</th>\n",
       "      <td>Unnamed: 34</td>\n",
       "      <td>NaN</td>\n",
       "      <td>1995-03-01</td>\n",
       "      <td>NaN</td>\n",
       "    </tr>\n",
       "    <tr>\n",
       "      <th>177</th>\n",
       "      <td>Unnamed: 34</td>\n",
       "      <td>NaN</td>\n",
       "      <td>1995-04-01</td>\n",
       "      <td>NaN</td>\n",
       "    </tr>\n",
       "    <tr>\n",
       "      <th>225</th>\n",
       "      <td>Unnamed: 34</td>\n",
       "      <td>NaN</td>\n",
       "      <td>1995-05-01</td>\n",
       "      <td>NaN</td>\n",
       "    </tr>\n",
       "    <tr>\n",
       "      <th>...</th>\n",
       "      <td>...</td>\n",
       "      <td>...</td>\n",
       "      <td>...</td>\n",
       "      <td>...</td>\n",
       "    </tr>\n",
       "    <tr>\n",
       "      <th>15009</th>\n",
       "      <td>Unnamed: 34</td>\n",
       "      <td>NaN</td>\n",
       "      <td>2021-01-01</td>\n",
       "      <td>NaN</td>\n",
       "    </tr>\n",
       "    <tr>\n",
       "      <th>15057</th>\n",
       "      <td>Unnamed: 34</td>\n",
       "      <td>NaN</td>\n",
       "      <td>2021-02-01</td>\n",
       "      <td>NaN</td>\n",
       "    </tr>\n",
       "    <tr>\n",
       "      <th>15105</th>\n",
       "      <td>Unnamed: 34</td>\n",
       "      <td>NaN</td>\n",
       "      <td>2021-03-01</td>\n",
       "      <td>NaN</td>\n",
       "    </tr>\n",
       "    <tr>\n",
       "      <th>15153</th>\n",
       "      <td>Unnamed: 34</td>\n",
       "      <td>NaN</td>\n",
       "      <td>2021-04-01</td>\n",
       "      <td>NaN</td>\n",
       "    </tr>\n",
       "    <tr>\n",
       "      <th>15201</th>\n",
       "      <td>Unnamed: 34</td>\n",
       "      <td>NaN</td>\n",
       "      <td>2021-05-01</td>\n",
       "      <td>NaN</td>\n",
       "    </tr>\n",
       "  </tbody>\n",
       "</table>\n",
       "<p>317 rows × 4 columns</p>\n",
       "</div>"
      ],
      "text/plain": [
       "           Borough   ID      Month  Avg Price\n",
       "33     Unnamed: 34  NaN 1995-01-01        NaN\n",
       "81     Unnamed: 34  NaN 1995-02-01        NaN\n",
       "129    Unnamed: 34  NaN 1995-03-01        NaN\n",
       "177    Unnamed: 34  NaN 1995-04-01        NaN\n",
       "225    Unnamed: 34  NaN 1995-05-01        NaN\n",
       "...            ...  ...        ...        ...\n",
       "15009  Unnamed: 34  NaN 2021-01-01        NaN\n",
       "15057  Unnamed: 34  NaN 2021-02-01        NaN\n",
       "15105  Unnamed: 34  NaN 2021-03-01        NaN\n",
       "15153  Unnamed: 34  NaN 2021-04-01        NaN\n",
       "15201  Unnamed: 34  NaN 2021-05-01        NaN\n",
       "\n",
       "[317 rows x 4 columns]"
      ]
     },
     "execution_count": 47,
     "metadata": {},
     "output_type": "execute_result"
    }
   ],
   "source": [
    "properties_clean[properties_clean['Borough']=='Unnamed: 34']"
   ]
  },
  {
   "cell_type": "code",
   "execution_count": 53,
   "metadata": {},
   "outputs": [],
   "source": [
    "properties_clean = properties_clean.dropna()"
   ]
  },
  {
   "cell_type": "code",
   "execution_count": 54,
   "metadata": {},
   "outputs": [],
   "source": [
    "rows_to_drop = ['Inner London', 'Outer London', \n",
    "               'NORTH EAST', 'NORTH WEST', 'YORKS & THE HUMBER', \n",
    "               'EAST MIDLANDS', 'WEST MIDLANDS',\n",
    "              'EAST OF ENGLAND', 'LONDON', 'SOUTH EAST', \n",
    "              'SOUTH WEST', 'England']"
   ]
  },
  {
   "cell_type": "code",
   "execution_count": 57,
   "metadata": {},
   "outputs": [],
   "source": [
    "df = properties_clean[~properties_clean.Borough.isin(rows_to_drop)]"
   ]
  },
  {
   "cell_type": "code",
   "execution_count": 58,
   "metadata": {},
   "outputs": [
    {
     "name": "stdout",
     "output_type": "stream",
     "text": [
      "['City of London' 'Barking & Dagenham' 'Barnet' 'Bexley' 'Brent' 'Bromley'\n",
      " 'Camden' 'Croydon' 'Ealing' 'Enfield' 'Greenwich' 'Hackney'\n",
      " 'Hammersmith & Fulham' 'Haringey' 'Harrow' 'Havering' 'Hillingdon'\n",
      " 'Hounslow' 'Islington' 'Kensington & Chelsea' 'Kingston upon Thames'\n",
      " 'Lambeth' 'Lewisham' 'Merton' 'Newham' 'Redbridge' 'Richmond upon Thames'\n",
      " 'Southwark' 'Sutton' 'Tower Hamlets' 'Waltham Forest' 'Wandsworth'\n",
      " 'Westminster']\n"
     ]
    },
    {
     "data": {
      "text/plain": [
       "33"
      ]
     },
     "execution_count": 58,
     "metadata": {},
     "output_type": "execute_result"
    }
   ],
   "source": [
    "print(df['Borough'].unique())\n",
    "len(df['Borough'].unique())"
   ]
  },
  {
   "cell_type": "markdown",
   "metadata": {
    "colab_type": "text",
    "id": "PGEx6mJsp6dG"
   },
   "source": [
    "**2.6. Visualizing the data**\n",
    "\n",
    "To visualize the data, why not subset on a particular London Borough? Maybe do a line plot of Month against Average Price?"
   ]
  },
  {
   "cell_type": "code",
   "execution_count": 59,
   "metadata": {
    "colab": {},
    "colab_type": "code",
    "id": "nAg5pT9cqHAR"
   },
   "outputs": [
    {
     "data": {
      "text/plain": [
       "Text(0, 0.5, 'Avg Price')"
      ]
     },
     "execution_count": 59,
     "metadata": {},
     "output_type": "execute_result"
    },
    {
     "data": {
      "image/png": "[encoded data removed]",
      "text/plain": [
       "<Figure size 432x288 with 1 Axes>"
      ]
     },
     "metadata": {
      "needs_background": "light"
     },
     "output_type": "display_data"
    }
   ],
   "source": [
    "B_and_D = df[df['Borough']=='Barking & Dagenham']\n",
    "ax = B_and_D.plot(kind='line', x='Month', y='Avg Price')\n",
    "ax.set_ylabel('Avg Price')"
   ]
  },
  {
   "cell_type": "markdown",
   "metadata": {
    "colab_type": "text",
    "id": "aWTPqSJeqHnC"
   },
   "source": [
    "To limit the number of data points you have, you might want to extract the year from every month value your *Month* column. \n",
    "\n",
    "To this end, you *could* apply a ***lambda function***. Your logic could work as follows:\n",
    "1. look through the `Month` column\n",
    "2. extract the year from each individual value in that column \n",
    "3. store that corresponding year as separate column. \n",
    "\n",
    "Whether you go ahead with this is up to you. Just so long as you answer our initial brief: which boroughs of London have seen the greatest house price increase, on average, over the past two decades? "
   ]
  },
  {
   "cell_type": "code",
   "execution_count": 60,
   "metadata": {
    "colab": {},
    "colab_type": "code",
    "id": "e0DF92cyqnu8"
   },
   "outputs": [],
   "source": [
    "df['Year']=df['Month'].apply(lambda y:y.year)"
   ]
  },
  {
   "cell_type": "code",
   "execution_count": 64,
   "metadata": {},
   "outputs": [
    {
     "name": "stdout",
     "output_type": "stream",
     "text": [
      "0    1995\n",
      "1    1995\n",
      "2    1995\n",
      "3    1995\n",
      "4    1995\n",
      "Name: Year, dtype: int64\n",
      "15196    2021\n",
      "15197    2021\n",
      "15198    2021\n",
      "15199    2021\n",
      "15200    2021\n",
      "Name: Year, dtype: int64\n"
     ]
    }
   ],
   "source": [
    "print(df['Year'].head())\n",
    "print(df['Year'].tail())"
   ]
  },
  {
   "cell_type": "code",
   "execution_count": 81,
   "metadata": {},
   "outputs": [
    {
     "name": "stdout",
     "output_type": "stream",
     "text": [
      "                             Avg Price\n",
      "Borough            Year               \n",
      "Barking & Dagenham 1995   51817.969390\n",
      "                   1996   51718.192690\n",
      "                   1997   55974.262309\n",
      "                   1998   60285.821083\n",
      "                   1999   65320.934441\n",
      "                   2000   77549.513290\n",
      "                   2001   88664.058223\n",
      "                   2002  112221.912482\n",
      "                   2003  142498.927800\n",
      "                   2004  158175.982483\n",
      "                   2005  163360.782017\n",
      "                   2006  167853.342558\n",
      "                   2007  184909.807383\n",
      "                   2008  187356.865783\n",
      "                   2009  156446.896358\n",
      "                   2010  166560.705275\n",
      "                   2011  163465.144225\n",
      "                   2012  165863.911600\n",
      "                   2013  173733.624933\n",
      "                   2014  201172.229417\n",
      "                   2015  233460.107425\n",
      "                   2016  273919.636042\n",
      "                   2017  287734.717358\n",
      "                   2018  295196.673612\n",
      "                   2019  298337.913408\n"
     ]
    }
   ],
   "source": [
    "dfg = df.groupby(by=['Borough', 'Year']).mean()\n",
    "print(dfg.head(25))"
   ]
  },
  {
   "cell_type": "code",
   "execution_count": 88,
   "metadata": {},
   "outputs": [],
   "source": [
    "dfg.reset_index(inplace=True)"
   ]
  },
  {
   "cell_type": "markdown",
   "metadata": {
    "colab_type": "text",
    "id": "2knuTxAEqoJ4"
   },
   "source": [
    "**3. Modeling**\n",
    "\n",
    "Consider creating a function that will calculate a ratio of house prices, comparing the price of a house in 2018 to the price in 1998.\n",
    "\n",
    "Consider calling this function create_price_ratio.\n",
    "\n",
    "You'd want this function to:\n",
    "1. Take a filter of dfg, specifically where this filter constrains the London_Borough, as an argument. For example, one admissible argument should be: dfg[dfg['London_Borough']=='Camden'].\n",
    "2. Get the Average Price for that Borough, for the years 1998 and 2018.\n",
    "4. Calculate the ratio of the Average Price for 1998 divided by the Average Price for 2018.\n",
    "5. Return that ratio.\n",
    "\n",
    "Once you've written this function, you ultimately want to use it to iterate through all the unique London_Boroughs and work out the ratio capturing the difference of house prices between 1998 and 2018.\n",
    "\n",
    "Bear in mind: you don't have to write a function like this if you don't want to. If you can solve the brief otherwise, then great! \n",
    "\n",
    "***Hint***: This section should test the skills you acquired in:\n",
    "- Python Data Science Toolbox - Part One, all modules"
   ]
  },
  {
   "cell_type": "code",
   "execution_count": 89,
   "metadata": {
    "colab": {},
    "colab_type": "code",
    "id": "cKTyr437UgDa"
   },
   "outputs": [],
   "source": [
    "def create_price_ratio(data):\n",
    "    ###Takes a filter of grouped data frame dfg and returns price ratio between 1998 and 2018###\n",
    "    \n",
    "    ratio = float(data['Avg Price'][data['Year'] == 1998])/float(data['Avg Price'][data['Year'] == 2018])\n",
    "    return ratio"
   ]
  },
  {
   "cell_type": "code",
   "execution_count": 90,
   "metadata": {},
   "outputs": [
    {
     "data": {
      "text/plain": [
       "0.20422256235393685"
      ]
     },
     "execution_count": 90,
     "metadata": {},
     "output_type": "execute_result"
    }
   ],
   "source": [
    "#test\n",
    "create_price_ratio(dfg[dfg['Borough']=='Barking & Dagenham'])\n"
   ]
  },
  {
   "cell_type": "code",
   "execution_count": 91,
   "metadata": {},
   "outputs": [],
   "source": [
    "price_ratios = {}"
   ]
  },
  {
   "cell_type": "code",
   "execution_count": 92,
   "metadata": {},
   "outputs": [
    {
     "data": {
      "text/html": [
       "<div>\n",
       "<style scoped>\n",
       "    .dataframe tbody tr th:only-of-type {\n",
       "        vertical-align: middle;\n",
       "    }\n",
       "\n",
       "    .dataframe tbody tr th {\n",
       "        vertical-align: top;\n",
       "    }\n",
       "\n",
       "    .dataframe thead th {\n",
       "        text-align: right;\n",
       "    }\n",
       "</style>\n",
       "<table border=\"1\" class=\"dataframe\">\n",
       "  <thead>\n",
       "    <tr style=\"text-align: right;\">\n",
       "      <th></th>\n",
       "      <th>Borough</th>\n",
       "      <th>Year</th>\n",
       "      <th>Avg Price</th>\n",
       "    </tr>\n",
       "  </thead>\n",
       "  <tbody>\n",
       "    <tr>\n",
       "      <th>0</th>\n",
       "      <td>Barking &amp; Dagenham</td>\n",
       "      <td>1995</td>\n",
       "      <td>51817.969390</td>\n",
       "    </tr>\n",
       "    <tr>\n",
       "      <th>1</th>\n",
       "      <td>Barking &amp; Dagenham</td>\n",
       "      <td>1996</td>\n",
       "      <td>51718.192690</td>\n",
       "    </tr>\n",
       "    <tr>\n",
       "      <th>2</th>\n",
       "      <td>Barking &amp; Dagenham</td>\n",
       "      <td>1997</td>\n",
       "      <td>55974.262309</td>\n",
       "    </tr>\n",
       "    <tr>\n",
       "      <th>3</th>\n",
       "      <td>Barking &amp; Dagenham</td>\n",
       "      <td>1998</td>\n",
       "      <td>60285.821083</td>\n",
       "    </tr>\n",
       "    <tr>\n",
       "      <th>4</th>\n",
       "      <td>Barking &amp; Dagenham</td>\n",
       "      <td>1999</td>\n",
       "      <td>65320.934441</td>\n",
       "    </tr>\n",
       "  </tbody>\n",
       "</table>\n",
       "</div>"
      ],
      "text/plain": [
       "              Borough  Year     Avg Price\n",
       "0  Barking & Dagenham  1995  51817.969390\n",
       "1  Barking & Dagenham  1996  51718.192690\n",
       "2  Barking & Dagenham  1997  55974.262309\n",
       "3  Barking & Dagenham  1998  60285.821083\n",
       "4  Barking & Dagenham  1999  65320.934441"
      ]
     },
     "execution_count": 92,
     "metadata": {},
     "output_type": "execute_result"
    }
   ],
   "source": [
    "dfg.head()"
   ]
  },
  {
   "cell_type": "code",
   "execution_count": 94,
   "metadata": {},
   "outputs": [
    {
     "name": "stdout",
     "output_type": "stream",
     "text": [
      "{'Barking & Dagenham': 0.20422256235393685, 'Barnet': 0.22945274120785797, 'Bexley': 0.2353507654063011, 'Brent': 0.2043086864360114, 'Bromley': 0.24421308489837312, 'Camden': 0.20261973503252542, 'City of London': 0.18862157770244367, 'Croydon': 0.23803288028014047, 'Ealing': 0.23194048191708755, 'Enfield': 0.23455064269011863, 'Greenwich': 0.20995010893854218, 'Hackney': 0.16133493530705734, 'Hammersmith & Fulham': 0.24167443054605853, 'Haringey': 0.19475619095546956, 'Harrow': 0.24635417785626296, 'Havering': 0.23120155787014757, 'Hillingdon': 0.23807975835429931, 'Hounslow': 0.25148317824115635, 'Islington': 0.20643891170300285, 'Kensington & Chelsea': 0.19675491852791563, 'Kingston upon Thames': 0.23416190234282552, 'Lambeth': 0.20170435486140822, 'Lewisham': 0.1835124676472171, 'Merton': 0.21091380604361798, 'Newham': 0.18848754146121072, 'Redbridge': 0.2236545053715767, 'Richmond upon Thames': 0.24967779731157863, 'Southwark': 0.18127484171283462, 'Sutton': 0.24280551426824518, 'Tower Hamlets': 0.2161367227623553, 'Waltham Forest': 0.1713867782439487, 'Wandsworth': 0.2101851809159322, 'Westminster': 0.18679140473024677}\n"
     ]
    }
   ],
   "source": [
    "for i in dfg['Borough'].unique():\n",
    "    price_ratios[i]=create_price_ratio(dfg[dfg['Borough']==i])\n",
    "    \n",
    "print(price_ratios)"
   ]
  },
  {
   "cell_type": "code",
   "execution_count": 104,
   "metadata": {},
   "outputs": [
    {
     "name": "stdout",
     "output_type": "stream",
     "text": [
      "              Borough  Price Ratio\n",
      "0  Barking & Dagenham     0.204223\n",
      "1              Barnet     0.229453\n",
      "2              Bexley     0.235351\n",
      "3               Brent     0.204309\n",
      "4             Bromley     0.244213\n"
     ]
    }
   ],
   "source": [
    "ratio_df = pd.DataFrame(list(price_ratios.items()), columns = ['Borough', 'Price Ratio'])\n",
    "print(ratio_df.head())\n"
   ]
  },
  {
   "cell_type": "code",
   "execution_count": 109,
   "metadata": {},
   "outputs": [
    {
     "name": "stdout",
     "output_type": "stream",
     "text": [
      "                 Borough  Price Ratio\n",
      "17              Hounslow     0.251483\n",
      "26  Richmond upon Thames     0.249678\n",
      "14                Harrow     0.246354\n",
      "4                Bromley     0.244213\n",
      "28                Sutton     0.242806\n"
     ]
    }
   ],
   "source": [
    "ratio_df.sort_values(by='Price Ratio', ascending=False, inplace = True)\n",
    "print(ratio_df.head())"
   ]
  },
  {
   "cell_type": "code",
   "execution_count": 111,
   "metadata": {},
   "outputs": [],
   "source": [
    "ratio_df.reset_index(inplace=True)"
   ]
  },
  {
   "cell_type": "code",
   "execution_count": 112,
   "metadata": {},
   "outputs": [
    {
     "name": "stdout",
     "output_type": "stream",
     "text": [
      "   index               Borough  Price Ratio\n",
      "0     17              Hounslow     0.251483\n",
      "1     26  Richmond upon Thames     0.249678\n",
      "2     14                Harrow     0.246354\n",
      "3      4               Bromley     0.244213\n",
      "4     28                Sutton     0.242806\n"
     ]
    }
   ],
   "source": [
    "print(ratio_df.head())"
   ]
  },
  {
   "cell_type": "code",
   "execution_count": 121,
   "metadata": {},
   "outputs": [
    {
     "data": {
      "image/png": "[encoded data removed]",
      "text/plain": [
       "<Figure size 432x288 with 1 Axes>"
      ]
     },
     "metadata": {
      "needs_background": "light"
     },
     "output_type": "display_data"
    }
   ],
   "source": [
    "plt.bar(ratio_df['Borough'][0:10], ratio_df['Price Ratio'][0:10])\n",
    "plt.xticks(rotation=90)\n",
    "plt.ylabel('Price Ratio between 1998 and 2018')\n",
    "plt.show()"
   ]
  },
  {
   "cell_type": "markdown",
   "metadata": {
    "colab_type": "text",
    "id": "NzYUI7FxJpgv"
   },
   "source": [
    "### 4. Conclusion\n",
    "What can you conclude? Type out your conclusion below. \n",
    "\n",
    "Look back at your notebook. Think about how you might summarize what you have done, and prepare a quick presentation on it to your mentor at your next meeting. \n",
    "\n",
    "We hope you enjoyed this practical project. It should have consolidated your data hygiene and pandas skills by looking at a real-world problem involving just the kind of dataset you might encounter as a budding data scientist. Congratulations, and looking forward to seeing you at the next step in the course! "
   ]
  },
  {
   "cell_type": "markdown",
   "metadata": {},
   "source": [
    "\n",
    "<span style=\"color:blue\">The London bouroughs that have seen the greatest increase in housing prices over the last 20 years (1998 - 2018) are Hounslow, Richmond upon Thames, Harrow, Bromley, Sutton, Hammersmith & Fulham, Hillingdon, Croydon, Bexley, and Enfield. The have increased in prices by 23.5% to 25.1%.</span>.\n"
   ]
  },
  {
   "cell_type": "code",
   "execution_count": null,
   "metadata": {},
   "outputs": [],
   "source": []
  }
 ],
 "metadata": {
  "colab": {
   "collapsed_sections": [],
   "name": "Springboard Data Science Career Track Unit 4 Challenge - Tier 3 Complete .ipynb",
   "provenance": []
  },
  "kernelspec": {
   "display_name": "Python 3",
   "language": "python",
   "name": "python3"
  },
  "language_info": {
   "codemirror_mode": {
    "name": "ipython",
    "version": 3
   },
   "file_extension": ".py",
   "mimetype": "text/x-python",
   "name": "python",
   "nbconvert_exporter": "python",
   "pygments_lexer": "ipython3",
   "version": "3.8.5"
  }
 },
 "nbformat": 4,
 "nbformat_minor": 1
}
