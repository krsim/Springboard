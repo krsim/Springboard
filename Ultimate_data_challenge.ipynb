{
 "cells": [
  {
   "cell_type": "markdown",
   "metadata": {},
   "source": [
    "\n",
    "# Ultimate Challange \n",
    "\n"
   ]
  },
  {
   "cell_type": "markdown",
   "metadata": {},
   "source": [
    "1. [Part 1 - Exploratory Data Analysis](#part1)\n",
    "    1. [Introduction](#introduction)\n",
    "    2. [Summary](#summary)\n",
    "2. [Part 2 - Experiment and Metrics Design](#part2)\n",
    "    1. [Solution](#solution)\n",
    "3. [Part 3 - Predictive Modeling](#part3)\n",
    "    1. [Introduction](#intro)\n",
    "    2. [Data Wrangling](#wrangle)\n",
    "    3. [EDA](#eda)\n",
    "    4. [Modeling](#model)\n",
    "        1. [Additional Preprocessing](#process)\n",
    "        2. [Initial Model](#initial)\n",
    "        3. [Hyperparameter Tuning](#tuning)\n",
    "        4. [Summary and Recommendations](#recommend)\n"
   ]
  },
  {
   "cell_type": "markdown",
   "metadata": {},
   "source": [
    "# Part 1 - Exploratory data analysis<a name=\"part1\">"
   ]
  },
  {
   "cell_type": "markdown",
   "metadata": {},
   "source": [
    "## Introduction <a name=\"introduction\">\n",
    "\n",
    "The attached logins.json file contains (simulated) timestamps of user logins in a particular\n",
    "geographic location. Aggregate these login counts based on 15minute time intervals, and\n",
    "visualize and describe the resulting time series of login counts in ways that best characterize the\n",
    "underlying patterns of the demand. Please report/illustrate important features of the demand,\n",
    "such as daily cycles. If there are data quality issues, please report them."
   ]
  },
  {
   "cell_type": "code",
   "execution_count": 1,
   "metadata": {},
   "outputs": [],
   "source": [
    "#import libraries\n",
    "import pandas as pd\n",
    "import json\n",
    "import matplotlib.pyplot as plt\n",
    "import seaborn as sns\n",
    "import numpy as np"
   ]
  },
  {
   "cell_type": "code",
   "execution_count": 2,
   "metadata": {},
   "outputs": [],
   "source": [
    "#load data\n",
    "with open(\"logins.json\",\"r\") as file:\n",
    "    logins = json.load(file)"
   ]
  },
  {
   "cell_type": "code",
   "execution_count": 3,
   "metadata": {},
   "outputs": [],
   "source": [
    "#create a dataframe\n",
    "logins_df = pd.DataFrame.from_dict(logins)"
   ]
  },
  {
   "cell_type": "code",
   "execution_count": 4,
   "metadata": {},
   "outputs": [
    {
     "data": {
      "text/html": [
       "<div>\n",
       "<style scoped>\n",
       "    .dataframe tbody tr th:only-of-type {\n",
       "        vertical-align: middle;\n",
       "    }\n",
       "\n",
       "    .dataframe tbody tr th {\n",
       "        vertical-align: top;\n",
       "    }\n",
       "\n",
       "    .dataframe thead th {\n",
       "        text-align: right;\n",
       "    }\n",
       "</style>\n",
       "<table border=\"1\" class=\"dataframe\">\n",
       "  <thead>\n",
       "    <tr style=\"text-align: right;\">\n",
       "      <th></th>\n",
       "      <th>login_time</th>\n",
       "    </tr>\n",
       "  </thead>\n",
       "  <tbody>\n",
       "    <tr>\n",
       "      <th>0</th>\n",
       "      <td>1970-01-01 20:13:18</td>\n",
       "    </tr>\n",
       "    <tr>\n",
       "      <th>1</th>\n",
       "      <td>1970-01-01 20:16:10</td>\n",
       "    </tr>\n",
       "    <tr>\n",
       "      <th>2</th>\n",
       "      <td>1970-01-01 20:16:37</td>\n",
       "    </tr>\n",
       "    <tr>\n",
       "      <th>3</th>\n",
       "      <td>1970-01-01 20:16:36</td>\n",
       "    </tr>\n",
       "    <tr>\n",
       "      <th>4</th>\n",
       "      <td>1970-01-01 20:26:21</td>\n",
       "    </tr>\n",
       "  </tbody>\n",
       "</table>\n",
       "</div>"
      ],
      "text/plain": [
       "            login_time\n",
       "0  1970-01-01 20:13:18\n",
       "1  1970-01-01 20:16:10\n",
       "2  1970-01-01 20:16:37\n",
       "3  1970-01-01 20:16:36\n",
       "4  1970-01-01 20:26:21"
      ]
     },
     "execution_count": 4,
     "metadata": {},
     "output_type": "execute_result"
    }
   ],
   "source": [
    "logins_df.head()"
   ]
  },
  {
   "cell_type": "code",
   "execution_count": 5,
   "metadata": {},
   "outputs": [
    {
     "name": "stdout",
     "output_type": "stream",
     "text": [
      "<class 'pandas.core.frame.DataFrame'>\n",
      "RangeIndex: 93142 entries, 0 to 93141\n",
      "Data columns (total 1 columns):\n",
      " #   Column      Non-Null Count  Dtype \n",
      "---  ------      --------------  ----- \n",
      " 0   login_time  93142 non-null  object\n",
      "dtypes: object(1)\n",
      "memory usage: 727.8+ KB\n"
     ]
    }
   ],
   "source": [
    "logins_df.info()"
   ]
  },
  {
   "cell_type": "code",
   "execution_count": 6,
   "metadata": {},
   "outputs": [],
   "source": [
    "#convert data to a datetime object\n",
    "logins_df['login_time'] = pd.to_datetime(logins_df['login_time'])"
   ]
  },
  {
   "cell_type": "code",
   "execution_count": 7,
   "metadata": {},
   "outputs": [
    {
     "name": "stdout",
     "output_type": "stream",
     "text": [
      "<class 'pandas.core.frame.DataFrame'>\n",
      "RangeIndex: 93142 entries, 0 to 93141\n",
      "Data columns (total 1 columns):\n",
      " #   Column      Non-Null Count  Dtype         \n",
      "---  ------      --------------  -----         \n",
      " 0   login_time  93142 non-null  datetime64[ns]\n",
      "dtypes: datetime64[ns](1)\n",
      "memory usage: 727.8 KB\n"
     ]
    }
   ],
   "source": [
    "logins_df.info()"
   ]
  },
  {
   "cell_type": "code",
   "execution_count": 8,
   "metadata": {},
   "outputs": [],
   "source": [
    "#add a column of ones to represent a single log in at that time\n",
    "logins_df['num_logins'] = 1"
   ]
  },
  {
   "cell_type": "code",
   "execution_count": 9,
   "metadata": {},
   "outputs": [],
   "source": [
    "#group into 15 minute intervals and sum the logins \n",
    "logins_df_agg = logins_df.groupby([pd.Grouper(key='login_time', freq='15min')]).sum()"
   ]
  },
  {
   "cell_type": "code",
   "execution_count": 10,
   "metadata": {},
   "outputs": [
    {
     "data": {
      "text/html": [
       "<div>\n",
       "<style scoped>\n",
       "    .dataframe tbody tr th:only-of-type {\n",
       "        vertical-align: middle;\n",
       "    }\n",
       "\n",
       "    .dataframe tbody tr th {\n",
       "        vertical-align: top;\n",
       "    }\n",
       "\n",
       "    .dataframe thead th {\n",
       "        text-align: right;\n",
       "    }\n",
       "</style>\n",
       "<table border=\"1\" class=\"dataframe\">\n",
       "  <thead>\n",
       "    <tr style=\"text-align: right;\">\n",
       "      <th></th>\n",
       "      <th>num_logins</th>\n",
       "    </tr>\n",
       "    <tr>\n",
       "      <th>login_time</th>\n",
       "      <th></th>\n",
       "    </tr>\n",
       "  </thead>\n",
       "  <tbody>\n",
       "    <tr>\n",
       "      <th>1970-01-01 20:00:00</th>\n",
       "      <td>2</td>\n",
       "    </tr>\n",
       "    <tr>\n",
       "      <th>1970-01-01 20:15:00</th>\n",
       "      <td>6</td>\n",
       "    </tr>\n",
       "    <tr>\n",
       "      <th>1970-01-01 20:30:00</th>\n",
       "      <td>9</td>\n",
       "    </tr>\n",
       "    <tr>\n",
       "      <th>1970-01-01 20:45:00</th>\n",
       "      <td>7</td>\n",
       "    </tr>\n",
       "    <tr>\n",
       "      <th>1970-01-01 21:00:00</th>\n",
       "      <td>1</td>\n",
       "    </tr>\n",
       "  </tbody>\n",
       "</table>\n",
       "</div>"
      ],
      "text/plain": [
       "                     num_logins\n",
       "login_time                     \n",
       "1970-01-01 20:00:00           2\n",
       "1970-01-01 20:15:00           6\n",
       "1970-01-01 20:30:00           9\n",
       "1970-01-01 20:45:00           7\n",
       "1970-01-01 21:00:00           1"
      ]
     },
     "execution_count": 10,
     "metadata": {},
     "output_type": "execute_result"
    }
   ],
   "source": [
    "logins_df_agg.head()"
   ]
  },
  {
   "cell_type": "code",
   "execution_count": 11,
   "metadata": {},
   "outputs": [
    {
     "data": {
      "text/plain": [
       "(array([  0.,  14.,  31.,  45.,  59.,  73.,  90., 104.]),\n",
       " [Text(0, 0, ''),\n",
       "  Text(0, 0, ''),\n",
       "  Text(0, 0, ''),\n",
       "  Text(0, 0, ''),\n",
       "  Text(0, 0, ''),\n",
       "  Text(0, 0, ''),\n",
       "  Text(0, 0, ''),\n",
       "  Text(0, 0, '')])"
      ]
     },
     "execution_count": 11,
     "metadata": {},
     "output_type": "execute_result"
    },
    {
     "data": {
      "image/png": "[encoded data removed]",
      "text/plain": [
       "<Figure size 1152x288 with 1 Axes>"
      ]
     },
     "metadata": {},
     "output_type": "display_data"
    }
   ],
   "source": [
    "sns.set()\n",
    "fig, ax = plt.subplots(1,1)\n",
    "fig.set_size_inches(16, 4)\n",
    "plt.plot(logins_df_agg)\n",
    "plt.xticks(rotation=90)"
   ]
  },
  {
   "cell_type": "markdown",
   "metadata": {},
   "source": [
    "**There is an obvious cyclical pattern. Let's take a closer look at some subsets**"
   ]
  },
  {
   "cell_type": "code",
   "execution_count": 12,
   "metadata": {},
   "outputs": [
    {
     "data": {
      "text/plain": [
       "(array([31., 35., 39., 43., 47., 51., 55., 59.]),\n",
       " [Text(0, 0, ''),\n",
       "  Text(0, 0, ''),\n",
       "  Text(0, 0, ''),\n",
       "  Text(0, 0, ''),\n",
       "  Text(0, 0, ''),\n",
       "  Text(0, 0, ''),\n",
       "  Text(0, 0, ''),\n",
       "  Text(0, 0, '')])"
      ]
     },
     "execution_count": 12,
     "metadata": {},
     "output_type": "execute_result"
    },
    {
     "data": {
      "image/png": "[encoded data removed]",
      "text/plain": [
       "<Figure size 1152x288 with 1 Axes>"
      ]
     },
     "metadata": {},
     "output_type": "display_data"
    }
   ],
   "source": [
    "#display the month of February\n",
    "fig, ax = plt.subplots(1,1)\n",
    "fig.set_size_inches(16, 4)\n",
    "plt.plot(logins_df_agg.loc['1970-02-01':'1970-02-28'])\n",
    "plt.xticks(rotation=90)"
   ]
  },
  {
   "cell_type": "code",
   "execution_count": 13,
   "metadata": {},
   "outputs": [
    {
     "data": {
      "text/plain": [
       "6"
      ]
     },
     "execution_count": 13,
     "metadata": {},
     "output_type": "execute_result"
    }
   ],
   "source": [
    "#This date is a Sunday\n",
    "pd.to_datetime('1970-02-01').dayofweek"
   ]
  },
  {
   "cell_type": "code",
   "execution_count": 14,
   "metadata": {},
   "outputs": [],
   "source": [
    "February = logins_df_agg.loc['1970-02-01':'1970-02-28']\n",
    "February_weekend = February[February.index.dayofweek > 4]\n",
    "February_weekday = February[February.index.dayofweek < 5]"
   ]
  },
  {
   "cell_type": "code",
   "execution_count": 15,
   "metadata": {},
   "outputs": [],
   "source": [
    "feb_weekend_mean = February_weekend['num_logins'].mean()\n",
    "feb_weekday_mean = February_weekday['num_logins'].mean()"
   ]
  },
  {
   "cell_type": "code",
   "execution_count": 16,
   "metadata": {},
   "outputs": [
    {
     "name": "stdout",
     "output_type": "stream",
     "text": [
      "Average weekend logins in Feruary is: 12.8\n",
      "Average weekday logins in Feruary is: 7.7\n",
      "The weekend demand is 66.2% higher than the weekday demand\n"
     ]
    }
   ],
   "source": [
    "print(\"Average weekend logins in Feruary is: {:.1f}\".format(feb_weekend_mean))\n",
    "print(\"Average weekday logins in Feruary is: {:.1f}\".format(feb_weekday_mean))\n",
    "print(\"The weekend demand is {:.1f}% higher than the weekday demand\".format((feb_weekend_mean / feb_weekday_mean - 1)*100))"
   ]
  },
  {
   "cell_type": "markdown",
   "metadata": {},
   "source": [
    "**Looking at just the month of February, there is a 66% increase in demand over the weekend**"
   ]
  },
  {
   "cell_type": "code",
   "execution_count": 17,
   "metadata": {},
   "outputs": [
    {
     "data": {
      "text/plain": [
       "(array([4. , 4.5, 5. , 5.5, 6. , 6.5, 7. ]),\n",
       " [Text(0, 0, ''),\n",
       "  Text(0, 0, ''),\n",
       "  Text(0, 0, ''),\n",
       "  Text(0, 0, ''),\n",
       "  Text(0, 0, ''),\n",
       "  Text(0, 0, ''),\n",
       "  Text(0, 0, '')])"
      ]
     },
     "execution_count": 17,
     "metadata": {},
     "output_type": "execute_result"
    },
    {
     "data": {
      "image/png": "[encoded data removed]",
      "text/plain": [
       "<Figure size 1152x288 with 1 Axes>"
      ]
     },
     "metadata": {},
     "output_type": "display_data"
    }
   ],
   "source": [
    "fig, ax = plt.subplots(1,1)\n",
    "fig.set_size_inches(16, 4)\n",
    "plt.plot(logins_df_agg.loc['1970-01-05':'1970-01-07'])\n",
    "plt.xticks(rotation=90)\n",
    "\n"
   ]
  },
  {
   "cell_type": "markdown",
   "metadata": {},
   "source": [
    "**Looking at a three day subsample, it is clearer that there is a peak in demand every twelve hours at noon and midnight.**"
   ]
  },
  {
   "cell_type": "markdown",
   "metadata": {},
   "source": [
    "\n",
    "### Summary <a name = \"summary\">\n",
    "\n",
    "The data shows nested patterns. Weekly, demand spikes over the weekend and daily, demand spikes at noon and midnight. There may be yearly patterns but more data will be required"
   ]
  },
  {
   "cell_type": "markdown",
   "metadata": {},
   "source": [
    "\n",
    "# Part 2 - Experiment and metrics design <a name=\"part2\">"
   ]
  },
  {
   "cell_type": "markdown",
   "metadata": {},
   "source": [
    "The neighboring cities of Gotham and Metropolis have complementary circadian rhythms: on\n",
    "weekdays, Ultimate Gotham is most active at night, and Ultimate Metropolis is most active\n",
    "during the day. On weekends, there is reasonable activity in both cities.\n",
    "\n",
    "However, a toll bridge, with a two way toll, between the two cities causes driver partners to tend\n",
    "to be exclusive to each city. The Ultimate managers of city operations for the two cities have\n",
    "proposed an experiment to encourage driver partners to be available in both cities, by\n",
    "reimbursing all toll costs.\n"
   ]
  },
  {
   "cell_type": "markdown",
   "metadata": {},
   "source": [
    "1) **What would you choose as the key measure of success of this experiment in encouraging driver partners to serve both cities, and why would you choose this metric?**\n"
   ]
  },
  {
   "cell_type": "markdown",
   "metadata": {},
   "source": [
    "2) **Describe a practical experiment you would design to compare the effectiveness of the proposed change in relation to the key measure of success. Please provide details on:**\n",
    "    \n",
    "    a) how you will implement the experiment\n",
    "    \n",
    "    b) what statistical test(s) you will conduct to verify the significance of the observation\n",
    "    \n",
    "    c) how you would interpret the results and provide recommendations to the city operations team along with any caveats.\n",
    "\n"
   ]
  },
  {
   "cell_type": "markdown",
   "metadata": {},
   "source": [
    "## Solution <a name=\"solution\">"
   ]
  },
  {
   "cell_type": "markdown",
   "metadata": {},
   "source": [
    "1) Because the driver partners would still have to pass through the toll booths, data on the number of trips could be collected. The mean number of passes through the tolls in a given time span could be the key metric to describe any change. The mean is ideal because it is scalable and can be easily calculated for particular time spans, i.e. weeks to months and weekdays versus weekends.\n",
    "\n",
    "    1) a) If the idea is to make the driver partners serve both cities, it would be important that the public is notified of this change as well as the driver partners. This way, the public knows they can use either company at anytime. Data would have to be collected at toll booths. Drivers would need a special ID or their vehicle equipped with a transponder to monitor their passage.\n",
    "       \n",
    "       b) Several statistical tests could be employed to verify changes in driver partner trips. Analysis of varience would help to confirm any difference in group means between one company and another, one time frame and another, and/or before and after the experiment. Also, regression analysis would be appropriate as the number of trips will likely increase over time.\n",
    "       \n",
    "       c) If the experiment showed no significant change in movement of driver partners then it would be recommended to discontinue the experiment and seek alternative possibilites. However, if there was significant increase in movement it would be advised to continue with the promotion; at least for the time being. Some boundary of mean trips would need to be set and data would need to be continualy collected to assure that the driver partners do not revert to serving only one city. There is a cost to maintaining this data collection and lost revenue from the tolls."
   ]
  },
  {
   "cell_type": "markdown",
   "metadata": {},
   "source": [
    "\n",
    "# Part 3 - Predictive Modeling <a name=\"part3\">"
   ]
  },
  {
   "cell_type": "markdown",
   "metadata": {},
   "source": [
    "\n",
    "## Introduction <a name=\"intro\">\n",
    "    \n",
    "Ultimate is interested in predicting rider retention. To help explore this question, we have provided a sample dataset of a cohort of users who signed up for an Ultimate account in January 2014. The data was pulled several months later; we consider a user retained if they were “active” (i.e. took a trip) in the preceding 30 days.\n",
    "\n",
    "We would like you to use this data set to help understand what factors are the best predictors\n",
    "for retention, and offer suggestions to operationalize those insights to help Ultimate.\n"
   ]
  },
  {
   "cell_type": "markdown",
   "metadata": {},
   "source": [
    "## Data wrangling <a name='wrangle'>"
   ]
  },
  {
   "cell_type": "code",
   "execution_count": 18,
   "metadata": {},
   "outputs": [],
   "source": [
    "#load data\n",
    "with open(\"ultimate_data_challenge.json\",\"r\") as file:\n",
    "    udc = json.load(file)"
   ]
  },
  {
   "cell_type": "code",
   "execution_count": 19,
   "metadata": {},
   "outputs": [],
   "source": [
    "udc_df = pd.DataFrame(udc)"
   ]
  },
  {
   "cell_type": "code",
   "execution_count": 20,
   "metadata": {},
   "outputs": [
    {
     "data": {
      "text/html": [
       "<div>\n",
       "<style scoped>\n",
       "    .dataframe tbody tr th:only-of-type {\n",
       "        vertical-align: middle;\n",
       "    }\n",
       "\n",
       "    .dataframe tbody tr th {\n",
       "        vertical-align: top;\n",
       "    }\n",
       "\n",
       "    .dataframe thead th {\n",
       "        text-align: right;\n",
       "    }\n",
       "</style>\n",
       "<table border=\"1\" class=\"dataframe\">\n",
       "  <thead>\n",
       "    <tr style=\"text-align: right;\">\n",
       "      <th></th>\n",
       "      <th>city</th>\n",
       "      <th>trips_in_first_30_days</th>\n",
       "      <th>signup_date</th>\n",
       "      <th>avg_rating_of_driver</th>\n",
       "      <th>avg_surge</th>\n",
       "      <th>last_trip_date</th>\n",
       "      <th>phone</th>\n",
       "      <th>surge_pct</th>\n",
       "      <th>ultimate_black_user</th>\n",
       "      <th>weekday_pct</th>\n",
       "      <th>avg_dist</th>\n",
       "      <th>avg_rating_by_driver</th>\n",
       "    </tr>\n",
       "  </thead>\n",
       "  <tbody>\n",
       "    <tr>\n",
       "      <th>0</th>\n",
       "      <td>King's Landing</td>\n",
       "      <td>4</td>\n",
       "      <td>2014-01-25</td>\n",
       "      <td>4.7</td>\n",
       "      <td>1.10</td>\n",
       "      <td>2014-06-17</td>\n",
       "      <td>iPhone</td>\n",
       "      <td>15.4</td>\n",
       "      <td>True</td>\n",
       "      <td>46.2</td>\n",
       "      <td>3.67</td>\n",
       "      <td>5.0</td>\n",
       "    </tr>\n",
       "    <tr>\n",
       "      <th>1</th>\n",
       "      <td>Astapor</td>\n",
       "      <td>0</td>\n",
       "      <td>2014-01-29</td>\n",
       "      <td>5.0</td>\n",
       "      <td>1.00</td>\n",
       "      <td>2014-05-05</td>\n",
       "      <td>Android</td>\n",
       "      <td>0.0</td>\n",
       "      <td>False</td>\n",
       "      <td>50.0</td>\n",
       "      <td>8.26</td>\n",
       "      <td>5.0</td>\n",
       "    </tr>\n",
       "    <tr>\n",
       "      <th>2</th>\n",
       "      <td>Astapor</td>\n",
       "      <td>3</td>\n",
       "      <td>2014-01-06</td>\n",
       "      <td>4.3</td>\n",
       "      <td>1.00</td>\n",
       "      <td>2014-01-07</td>\n",
       "      <td>iPhone</td>\n",
       "      <td>0.0</td>\n",
       "      <td>False</td>\n",
       "      <td>100.0</td>\n",
       "      <td>0.77</td>\n",
       "      <td>5.0</td>\n",
       "    </tr>\n",
       "    <tr>\n",
       "      <th>3</th>\n",
       "      <td>King's Landing</td>\n",
       "      <td>9</td>\n",
       "      <td>2014-01-10</td>\n",
       "      <td>4.6</td>\n",
       "      <td>1.14</td>\n",
       "      <td>2014-06-29</td>\n",
       "      <td>iPhone</td>\n",
       "      <td>20.0</td>\n",
       "      <td>True</td>\n",
       "      <td>80.0</td>\n",
       "      <td>2.36</td>\n",
       "      <td>4.9</td>\n",
       "    </tr>\n",
       "    <tr>\n",
       "      <th>4</th>\n",
       "      <td>Winterfell</td>\n",
       "      <td>14</td>\n",
       "      <td>2014-01-27</td>\n",
       "      <td>4.4</td>\n",
       "      <td>1.19</td>\n",
       "      <td>2014-03-15</td>\n",
       "      <td>Android</td>\n",
       "      <td>11.8</td>\n",
       "      <td>False</td>\n",
       "      <td>82.4</td>\n",
       "      <td>3.13</td>\n",
       "      <td>4.9</td>\n",
       "    </tr>\n",
       "  </tbody>\n",
       "</table>\n",
       "</div>"
      ],
      "text/plain": [
       "             city  trips_in_first_30_days signup_date  avg_rating_of_driver  \\\n",
       "0  King's Landing                       4  2014-01-25                   4.7   \n",
       "1         Astapor                       0  2014-01-29                   5.0   \n",
       "2         Astapor                       3  2014-01-06                   4.3   \n",
       "3  King's Landing                       9  2014-01-10                   4.6   \n",
       "4      Winterfell                      14  2014-01-27                   4.4   \n",
       "\n",
       "   avg_surge last_trip_date    phone  surge_pct  ultimate_black_user  \\\n",
       "0       1.10     2014-06-17   iPhone       15.4                 True   \n",
       "1       1.00     2014-05-05  Android        0.0                False   \n",
       "2       1.00     2014-01-07   iPhone        0.0                False   \n",
       "3       1.14     2014-06-29   iPhone       20.0                 True   \n",
       "4       1.19     2014-03-15  Android       11.8                False   \n",
       "\n",
       "   weekday_pct  avg_dist  avg_rating_by_driver  \n",
       "0         46.2      3.67                   5.0  \n",
       "1         50.0      8.26                   5.0  \n",
       "2        100.0      0.77                   5.0  \n",
       "3         80.0      2.36                   4.9  \n",
       "4         82.4      3.13                   4.9  "
      ]
     },
     "execution_count": 20,
     "metadata": {},
     "output_type": "execute_result"
    }
   ],
   "source": [
    "#examine the data and summary statistics\n",
    "udc_df.head()"
   ]
  },
  {
   "cell_type": "code",
   "execution_count": 21,
   "metadata": {},
   "outputs": [
    {
     "name": "stdout",
     "output_type": "stream",
     "text": [
      "<class 'pandas.core.frame.DataFrame'>\n",
      "RangeIndex: 50000 entries, 0 to 49999\n",
      "Data columns (total 12 columns):\n",
      " #   Column                  Non-Null Count  Dtype  \n",
      "---  ------                  --------------  -----  \n",
      " 0   city                    50000 non-null  object \n",
      " 1   trips_in_first_30_days  50000 non-null  int64  \n",
      " 2   signup_date             50000 non-null  object \n",
      " 3   avg_rating_of_driver    41878 non-null  float64\n",
      " 4   avg_surge               50000 non-null  float64\n",
      " 5   last_trip_date          50000 non-null  object \n",
      " 6   phone                   49604 non-null  object \n",
      " 7   surge_pct               50000 non-null  float64\n",
      " 8   ultimate_black_user     50000 non-null  bool   \n",
      " 9   weekday_pct             50000 non-null  float64\n",
      " 10  avg_dist                50000 non-null  float64\n",
      " 11  avg_rating_by_driver    49799 non-null  float64\n",
      "dtypes: bool(1), float64(6), int64(1), object(4)\n",
      "memory usage: 4.2+ MB\n"
     ]
    }
   ],
   "source": [
    "udc_df.info()"
   ]
  },
  {
   "cell_type": "code",
   "execution_count": 22,
   "metadata": {},
   "outputs": [
    {
     "data": {
      "text/html": [
       "<div>\n",
       "<style scoped>\n",
       "    .dataframe tbody tr th:only-of-type {\n",
       "        vertical-align: middle;\n",
       "    }\n",
       "\n",
       "    .dataframe tbody tr th {\n",
       "        vertical-align: top;\n",
       "    }\n",
       "\n",
       "    .dataframe thead th {\n",
       "        text-align: right;\n",
       "    }\n",
       "</style>\n",
       "<table border=\"1\" class=\"dataframe\">\n",
       "  <thead>\n",
       "    <tr style=\"text-align: right;\">\n",
       "      <th></th>\n",
       "      <th>trips_in_first_30_days</th>\n",
       "      <th>avg_rating_of_driver</th>\n",
       "      <th>avg_surge</th>\n",
       "      <th>surge_pct</th>\n",
       "      <th>weekday_pct</th>\n",
       "      <th>avg_dist</th>\n",
       "      <th>avg_rating_by_driver</th>\n",
       "    </tr>\n",
       "  </thead>\n",
       "  <tbody>\n",
       "    <tr>\n",
       "      <th>count</th>\n",
       "      <td>50000.000000</td>\n",
       "      <td>41878.000000</td>\n",
       "      <td>50000.000000</td>\n",
       "      <td>50000.000000</td>\n",
       "      <td>50000.000000</td>\n",
       "      <td>50000.000000</td>\n",
       "      <td>49799.000000</td>\n",
       "    </tr>\n",
       "    <tr>\n",
       "      <th>mean</th>\n",
       "      <td>2.278200</td>\n",
       "      <td>4.601559</td>\n",
       "      <td>1.074764</td>\n",
       "      <td>8.849536</td>\n",
       "      <td>60.926084</td>\n",
       "      <td>5.796827</td>\n",
       "      <td>4.778158</td>\n",
       "    </tr>\n",
       "    <tr>\n",
       "      <th>std</th>\n",
       "      <td>3.792684</td>\n",
       "      <td>0.617338</td>\n",
       "      <td>0.222336</td>\n",
       "      <td>19.958811</td>\n",
       "      <td>37.081503</td>\n",
       "      <td>5.707357</td>\n",
       "      <td>0.446652</td>\n",
       "    </tr>\n",
       "    <tr>\n",
       "      <th>min</th>\n",
       "      <td>0.000000</td>\n",
       "      <td>1.000000</td>\n",
       "      <td>1.000000</td>\n",
       "      <td>0.000000</td>\n",
       "      <td>0.000000</td>\n",
       "      <td>0.000000</td>\n",
       "      <td>1.000000</td>\n",
       "    </tr>\n",
       "    <tr>\n",
       "      <th>25%</th>\n",
       "      <td>0.000000</td>\n",
       "      <td>4.300000</td>\n",
       "      <td>1.000000</td>\n",
       "      <td>0.000000</td>\n",
       "      <td>33.300000</td>\n",
       "      <td>2.420000</td>\n",
       "      <td>4.700000</td>\n",
       "    </tr>\n",
       "    <tr>\n",
       "      <th>50%</th>\n",
       "      <td>1.000000</td>\n",
       "      <td>4.900000</td>\n",
       "      <td>1.000000</td>\n",
       "      <td>0.000000</td>\n",
       "      <td>66.700000</td>\n",
       "      <td>3.880000</td>\n",
       "      <td>5.000000</td>\n",
       "    </tr>\n",
       "    <tr>\n",
       "      <th>75%</th>\n",
       "      <td>3.000000</td>\n",
       "      <td>5.000000</td>\n",
       "      <td>1.050000</td>\n",
       "      <td>8.600000</td>\n",
       "      <td>100.000000</td>\n",
       "      <td>6.940000</td>\n",
       "      <td>5.000000</td>\n",
       "    </tr>\n",
       "    <tr>\n",
       "      <th>max</th>\n",
       "      <td>125.000000</td>\n",
       "      <td>5.000000</td>\n",
       "      <td>8.000000</td>\n",
       "      <td>100.000000</td>\n",
       "      <td>100.000000</td>\n",
       "      <td>160.960000</td>\n",
       "      <td>5.000000</td>\n",
       "    </tr>\n",
       "  </tbody>\n",
       "</table>\n",
       "</div>"
      ],
      "text/plain": [
       "       trips_in_first_30_days  avg_rating_of_driver     avg_surge  \\\n",
       "count            50000.000000          41878.000000  50000.000000   \n",
       "mean                 2.278200              4.601559      1.074764   \n",
       "std                  3.792684              0.617338      0.222336   \n",
       "min                  0.000000              1.000000      1.000000   \n",
       "25%                  0.000000              4.300000      1.000000   \n",
       "50%                  1.000000              4.900000      1.000000   \n",
       "75%                  3.000000              5.000000      1.050000   \n",
       "max                125.000000              5.000000      8.000000   \n",
       "\n",
       "          surge_pct   weekday_pct      avg_dist  avg_rating_by_driver  \n",
       "count  50000.000000  50000.000000  50000.000000          49799.000000  \n",
       "mean       8.849536     60.926084      5.796827              4.778158  \n",
       "std       19.958811     37.081503      5.707357              0.446652  \n",
       "min        0.000000      0.000000      0.000000              1.000000  \n",
       "25%        0.000000     33.300000      2.420000              4.700000  \n",
       "50%        0.000000     66.700000      3.880000              5.000000  \n",
       "75%        8.600000    100.000000      6.940000              5.000000  \n",
       "max      100.000000    100.000000    160.960000              5.000000  "
      ]
     },
     "execution_count": 22,
     "metadata": {},
     "output_type": "execute_result"
    }
   ],
   "source": [
    "udc_df.describe()"
   ]
  },
  {
   "cell_type": "code",
   "execution_count": 23,
   "metadata": {},
   "outputs": [],
   "source": [
    "#change sign_up_date and last_trip_date to DateTime objects\n",
    "udc_df[\"signup_date\"] = pd.to_datetime(udc_df[\"signup_date\"])\n",
    "udc_df[\"last_trip_date\"] = pd.to_datetime(udc_df[\"last_trip_date\"])"
   ]
  },
  {
   "cell_type": "code",
   "execution_count": 24,
   "metadata": {},
   "outputs": [
    {
     "name": "stdout",
     "output_type": "stream",
     "text": [
      "<class 'pandas.core.frame.DataFrame'>\n",
      "RangeIndex: 50000 entries, 0 to 49999\n",
      "Data columns (total 12 columns):\n",
      " #   Column                  Non-Null Count  Dtype         \n",
      "---  ------                  --------------  -----         \n",
      " 0   city                    50000 non-null  object        \n",
      " 1   trips_in_first_30_days  50000 non-null  int64         \n",
      " 2   signup_date             50000 non-null  datetime64[ns]\n",
      " 3   avg_rating_of_driver    41878 non-null  float64       \n",
      " 4   avg_surge               50000 non-null  float64       \n",
      " 5   last_trip_date          50000 non-null  datetime64[ns]\n",
      " 6   phone                   49604 non-null  object        \n",
      " 7   surge_pct               50000 non-null  float64       \n",
      " 8   ultimate_black_user     50000 non-null  bool          \n",
      " 9   weekday_pct             50000 non-null  float64       \n",
      " 10  avg_dist                50000 non-null  float64       \n",
      " 11  avg_rating_by_driver    49799 non-null  float64       \n",
      "dtypes: bool(1), datetime64[ns](2), float64(6), int64(1), object(2)\n",
      "memory usage: 4.2+ MB\n"
     ]
    }
   ],
   "source": [
    "udc_df.info()"
   ]
  },
  {
   "cell_type": "code",
   "execution_count": 25,
   "metadata": {},
   "outputs": [
    {
     "data": {
      "text/plain": [
       "8122"
      ]
     },
     "execution_count": 25,
     "metadata": {},
     "output_type": "execute_result"
    }
   ],
   "source": [
    "#deal with missing data in the avg_rating_of_driver column\n",
    "udc_df['avg_rating_of_driver'].isnull().sum() "
   ]
  },
  {
   "cell_type": "code",
   "execution_count": 26,
   "metadata": {},
   "outputs": [],
   "source": [
    "#impute the missing avg_ratings_of_drivers with the mean\n",
    "udc_df['avg_rating_of_driver'] = udc_df['avg_rating_of_driver'].fillna(udc_df['avg_rating_of_driver'].mean())"
   ]
  },
  {
   "cell_type": "code",
   "execution_count": 27,
   "metadata": {},
   "outputs": [
    {
     "name": "stdout",
     "output_type": "stream",
     "text": [
      "<class 'pandas.core.frame.DataFrame'>\n",
      "RangeIndex: 50000 entries, 0 to 49999\n",
      "Data columns (total 12 columns):\n",
      " #   Column                  Non-Null Count  Dtype         \n",
      "---  ------                  --------------  -----         \n",
      " 0   city                    50000 non-null  object        \n",
      " 1   trips_in_first_30_days  50000 non-null  int64         \n",
      " 2   signup_date             50000 non-null  datetime64[ns]\n",
      " 3   avg_rating_of_driver    50000 non-null  float64       \n",
      " 4   avg_surge               50000 non-null  float64       \n",
      " 5   last_trip_date          50000 non-null  datetime64[ns]\n",
      " 6   phone                   49604 non-null  object        \n",
      " 7   surge_pct               50000 non-null  float64       \n",
      " 8   ultimate_black_user     50000 non-null  bool          \n",
      " 9   weekday_pct             50000 non-null  float64       \n",
      " 10  avg_dist                50000 non-null  float64       \n",
      " 11  avg_rating_by_driver    49799 non-null  float64       \n",
      "dtypes: bool(1), datetime64[ns](2), float64(6), int64(1), object(2)\n",
      "memory usage: 4.2+ MB\n"
     ]
    }
   ],
   "source": [
    "udc_df.info()"
   ]
  },
  {
   "cell_type": "code",
   "execution_count": 28,
   "metadata": {},
   "outputs": [],
   "source": [
    "#drop rows with missing phone type\n",
    "udc_df.dropna(inplace = True)"
   ]
  },
  {
   "cell_type": "code",
   "execution_count": 29,
   "metadata": {},
   "outputs": [
    {
     "name": "stdout",
     "output_type": "stream",
     "text": [
      "<class 'pandas.core.frame.DataFrame'>\n",
      "Int64Index: 49406 entries, 0 to 49999\n",
      "Data columns (total 12 columns):\n",
      " #   Column                  Non-Null Count  Dtype         \n",
      "---  ------                  --------------  -----         \n",
      " 0   city                    49406 non-null  object        \n",
      " 1   trips_in_first_30_days  49406 non-null  int64         \n",
      " 2   signup_date             49406 non-null  datetime64[ns]\n",
      " 3   avg_rating_of_driver    49406 non-null  float64       \n",
      " 4   avg_surge               49406 non-null  float64       \n",
      " 5   last_trip_date          49406 non-null  datetime64[ns]\n",
      " 6   phone                   49406 non-null  object        \n",
      " 7   surge_pct               49406 non-null  float64       \n",
      " 8   ultimate_black_user     49406 non-null  bool          \n",
      " 9   weekday_pct             49406 non-null  float64       \n",
      " 10  avg_dist                49406 non-null  float64       \n",
      " 11  avg_rating_by_driver    49406 non-null  float64       \n",
      "dtypes: bool(1), datetime64[ns](2), float64(6), int64(1), object(2)\n",
      "memory usage: 4.6+ MB\n"
     ]
    }
   ],
   "source": [
    "udc_df.info()"
   ]
  },
  {
   "cell_type": "code",
   "execution_count": 30,
   "metadata": {},
   "outputs": [],
   "source": [
    "#encode the categorical data\n",
    "dummy_city = pd.get_dummies(udc_df['city'], prefix='city_')\n",
    "dummy_phone = pd.get_dummies(udc_df['phone'], prefix='phone_')"
   ]
  },
  {
   "cell_type": "code",
   "execution_count": 31,
   "metadata": {},
   "outputs": [],
   "source": [
    "#estimate when the data was collected\n",
    "recent_date = udc_df['last_trip_date'].max()"
   ]
  },
  {
   "cell_type": "code",
   "execution_count": 32,
   "metadata": {},
   "outputs": [],
   "source": [
    "udc_df['active'] = ((recent_date - udc_df['last_trip_date']) <= '30 days')"
   ]
  },
  {
   "cell_type": "code",
   "execution_count": 33,
   "metadata": {},
   "outputs": [],
   "source": [
    "udc_df = udc_df.astype({'ultimate_black_user': 'uint8', 'active': 'uint8'})"
   ]
  },
  {
   "cell_type": "code",
   "execution_count": 34,
   "metadata": {},
   "outputs": [],
   "source": [
    "#build the final dataframe used for modeling\n",
    "df = pd.merge(left=udc_df, right=dummy_city,left_index=True, right_index=True,)\n",
    "df = pd.merge(left=df, right=dummy_phone,left_index=True, right_index=True,)\n",
    "df.drop(['city', 'phone', 'signup_date', 'last_trip_date'], axis=1, inplace=True)"
   ]
  },
  {
   "cell_type": "code",
   "execution_count": 35,
   "metadata": {},
   "outputs": [
    {
     "name": "stdout",
     "output_type": "stream",
     "text": [
      "<class 'pandas.core.frame.DataFrame'>\n",
      "Int64Index: 49406 entries, 0 to 49999\n",
      "Data columns (total 14 columns):\n",
      " #   Column                  Non-Null Count  Dtype  \n",
      "---  ------                  --------------  -----  \n",
      " 0   trips_in_first_30_days  49406 non-null  int64  \n",
      " 1   avg_rating_of_driver    49406 non-null  float64\n",
      " 2   avg_surge               49406 non-null  float64\n",
      " 3   surge_pct               49406 non-null  float64\n",
      " 4   ultimate_black_user     49406 non-null  uint8  \n",
      " 5   weekday_pct             49406 non-null  float64\n",
      " 6   avg_dist                49406 non-null  float64\n",
      " 7   avg_rating_by_driver    49406 non-null  float64\n",
      " 8   active                  49406 non-null  uint8  \n",
      " 9   city__Astapor           49406 non-null  uint8  \n",
      " 10  city__King's Landing    49406 non-null  uint8  \n",
      " 11  city__Winterfell        49406 non-null  uint8  \n",
      " 12  phone__Android          49406 non-null  uint8  \n",
      " 13  phone__iPhone           49406 non-null  uint8  \n",
      "dtypes: float64(6), int64(1), uint8(7)\n",
      "memory usage: 4.6 MB\n"
     ]
    }
   ],
   "source": [
    "df.info()"
   ]
  },
  {
   "cell_type": "markdown",
   "metadata": {},
   "source": [
    "\n",
    "## EDA <a name='eda'>"
   ]
  },
  {
   "cell_type": "code",
   "execution_count": 36,
   "metadata": {},
   "outputs": [
    {
     "name": "stdout",
     "output_type": "stream",
     "text": [
      "<class 'pandas.core.frame.DataFrame'>\n",
      "Int64Index: 49406 entries, 0 to 49999\n",
      "Data columns (total 13 columns):\n",
      " #   Column                  Non-Null Count  Dtype         \n",
      "---  ------                  --------------  -----         \n",
      " 0   city                    49406 non-null  object        \n",
      " 1   trips_in_first_30_days  49406 non-null  int64         \n",
      " 2   signup_date             49406 non-null  datetime64[ns]\n",
      " 3   avg_rating_of_driver    49406 non-null  float64       \n",
      " 4   avg_surge               49406 non-null  float64       \n",
      " 5   last_trip_date          49406 non-null  datetime64[ns]\n",
      " 6   phone                   49406 non-null  object        \n",
      " 7   surge_pct               49406 non-null  float64       \n",
      " 8   ultimate_black_user     49406 non-null  uint8         \n",
      " 9   weekday_pct             49406 non-null  float64       \n",
      " 10  avg_dist                49406 non-null  float64       \n",
      " 11  avg_rating_by_driver    49406 non-null  float64       \n",
      " 12  active                  49406 non-null  uint8         \n",
      "dtypes: datetime64[ns](2), float64(6), int64(1), object(2), uint8(2)\n",
      "memory usage: 5.9+ MB\n"
     ]
    }
   ],
   "source": [
    "udc_df.info()"
   ]
  },
  {
   "cell_type": "code",
   "execution_count": 37,
   "metadata": {},
   "outputs": [
    {
     "data": {
      "text/html": [
       "<div>\n",
       "<style scoped>\n",
       "    .dataframe tbody tr th:only-of-type {\n",
       "        vertical-align: middle;\n",
       "    }\n",
       "\n",
       "    .dataframe tbody tr th {\n",
       "        vertical-align: top;\n",
       "    }\n",
       "\n",
       "    .dataframe thead th {\n",
       "        text-align: right;\n",
       "    }\n",
       "</style>\n",
       "<table border=\"1\" class=\"dataframe\">\n",
       "  <thead>\n",
       "    <tr style=\"text-align: right;\">\n",
       "      <th></th>\n",
       "      <th>trips_in_first_30_days</th>\n",
       "      <th>avg_rating_of_driver</th>\n",
       "      <th>avg_surge</th>\n",
       "      <th>surge_pct</th>\n",
       "      <th>ultimate_black_user</th>\n",
       "      <th>weekday_pct</th>\n",
       "      <th>avg_dist</th>\n",
       "      <th>avg_rating_by_driver</th>\n",
       "      <th>active</th>\n",
       "    </tr>\n",
       "  </thead>\n",
       "  <tbody>\n",
       "    <tr>\n",
       "      <th>count</th>\n",
       "      <td>49406.000000</td>\n",
       "      <td>49406.000000</td>\n",
       "      <td>49406.000000</td>\n",
       "      <td>49406.000000</td>\n",
       "      <td>49406.000000</td>\n",
       "      <td>49406.000000</td>\n",
       "      <td>49406.000000</td>\n",
       "      <td>49406.000000</td>\n",
       "      <td>49406.000000</td>\n",
       "    </tr>\n",
       "    <tr>\n",
       "      <th>mean</th>\n",
       "      <td>2.284176</td>\n",
       "      <td>4.601694</td>\n",
       "      <td>1.074617</td>\n",
       "      <td>8.846788</td>\n",
       "      <td>0.376047</td>\n",
       "      <td>60.913282</td>\n",
       "      <td>5.783987</td>\n",
       "      <td>4.777861</td>\n",
       "      <td>0.377181</td>\n",
       "    </tr>\n",
       "    <tr>\n",
       "      <th>std</th>\n",
       "      <td>3.799164</td>\n",
       "      <td>0.564287</td>\n",
       "      <td>0.221009</td>\n",
       "      <td>19.890166</td>\n",
       "      <td>0.484397</td>\n",
       "      <td>37.023166</td>\n",
       "      <td>5.627329</td>\n",
       "      <td>0.447114</td>\n",
       "      <td>0.484686</td>\n",
       "    </tr>\n",
       "    <tr>\n",
       "      <th>min</th>\n",
       "      <td>0.000000</td>\n",
       "      <td>1.000000</td>\n",
       "      <td>1.000000</td>\n",
       "      <td>0.000000</td>\n",
       "      <td>0.000000</td>\n",
       "      <td>0.000000</td>\n",
       "      <td>0.000000</td>\n",
       "      <td>1.000000</td>\n",
       "      <td>0.000000</td>\n",
       "    </tr>\n",
       "    <tr>\n",
       "      <th>25%</th>\n",
       "      <td>0.000000</td>\n",
       "      <td>4.500000</td>\n",
       "      <td>1.000000</td>\n",
       "      <td>0.000000</td>\n",
       "      <td>0.000000</td>\n",
       "      <td>33.300000</td>\n",
       "      <td>2.420000</td>\n",
       "      <td>4.700000</td>\n",
       "      <td>0.000000</td>\n",
       "    </tr>\n",
       "    <tr>\n",
       "      <th>50%</th>\n",
       "      <td>1.000000</td>\n",
       "      <td>4.700000</td>\n",
       "      <td>1.000000</td>\n",
       "      <td>0.000000</td>\n",
       "      <td>0.000000</td>\n",
       "      <td>66.700000</td>\n",
       "      <td>3.880000</td>\n",
       "      <td>5.000000</td>\n",
       "      <td>0.000000</td>\n",
       "    </tr>\n",
       "    <tr>\n",
       "      <th>75%</th>\n",
       "      <td>3.000000</td>\n",
       "      <td>5.000000</td>\n",
       "      <td>1.050000</td>\n",
       "      <td>8.700000</td>\n",
       "      <td>1.000000</td>\n",
       "      <td>100.000000</td>\n",
       "      <td>6.930000</td>\n",
       "      <td>5.000000</td>\n",
       "      <td>1.000000</td>\n",
       "    </tr>\n",
       "    <tr>\n",
       "      <th>max</th>\n",
       "      <td>125.000000</td>\n",
       "      <td>5.000000</td>\n",
       "      <td>8.000000</td>\n",
       "      <td>100.000000</td>\n",
       "      <td>1.000000</td>\n",
       "      <td>100.000000</td>\n",
       "      <td>79.690000</td>\n",
       "      <td>5.000000</td>\n",
       "      <td>1.000000</td>\n",
       "    </tr>\n",
       "  </tbody>\n",
       "</table>\n",
       "</div>"
      ],
      "text/plain": [
       "       trips_in_first_30_days  avg_rating_of_driver     avg_surge  \\\n",
       "count            49406.000000          49406.000000  49406.000000   \n",
       "mean                 2.284176              4.601694      1.074617   \n",
       "std                  3.799164              0.564287      0.221009   \n",
       "min                  0.000000              1.000000      1.000000   \n",
       "25%                  0.000000              4.500000      1.000000   \n",
       "50%                  1.000000              4.700000      1.000000   \n",
       "75%                  3.000000              5.000000      1.050000   \n",
       "max                125.000000              5.000000      8.000000   \n",
       "\n",
       "          surge_pct  ultimate_black_user   weekday_pct      avg_dist  \\\n",
       "count  49406.000000         49406.000000  49406.000000  49406.000000   \n",
       "mean       8.846788             0.376047     60.913282      5.783987   \n",
       "std       19.890166             0.484397     37.023166      5.627329   \n",
       "min        0.000000             0.000000      0.000000      0.000000   \n",
       "25%        0.000000             0.000000     33.300000      2.420000   \n",
       "50%        0.000000             0.000000     66.700000      3.880000   \n",
       "75%        8.700000             1.000000    100.000000      6.930000   \n",
       "max      100.000000             1.000000    100.000000     79.690000   \n",
       "\n",
       "       avg_rating_by_driver        active  \n",
       "count          49406.000000  49406.000000  \n",
       "mean               4.777861      0.377181  \n",
       "std                0.447114      0.484686  \n",
       "min                1.000000      0.000000  \n",
       "25%                4.700000      0.000000  \n",
       "50%                5.000000      0.000000  \n",
       "75%                5.000000      1.000000  \n",
       "max                5.000000      1.000000  "
      ]
     },
     "execution_count": 37,
     "metadata": {},
     "output_type": "execute_result"
    }
   ],
   "source": [
    "udc_df.describe()"
   ]
  },
  {
   "cell_type": "code",
   "execution_count": 38,
   "metadata": {},
   "outputs": [
    {
     "data": {
      "text/plain": [
       "<AxesSubplot:>"
      ]
     },
     "execution_count": 38,
     "metadata": {},
     "output_type": "execute_result"
    },
    {
     "data": {
      "image/png": "[encoded data removed]",
      "text/plain": [
       "<Figure size 648x576 with 2 Axes>"
      ]
     },
     "metadata": {},
     "output_type": "display_data"
    }
   ],
   "source": [
    "#let's look at the correlation among the features\n",
    "corrmat = df.corr()\n",
    "  \n",
    "fig, ax = plt.subplots(figsize =(9, 8))\n",
    "sns.heatmap(corrmat, ax = ax, cmap =\"YlGnBu\", linewidths = 0.1)"
   ]
  },
  {
   "cell_type": "markdown",
   "metadata": {},
   "source": [
    "**The heatmap shows little correlation among the features save for avg_surge and surge percent. This may indicate that one may not contribute much to the predictive model. More information about the max and min surge may be helpful**"
   ]
  },
  {
   "cell_type": "code",
   "execution_count": 39,
   "metadata": {},
   "outputs": [
    {
     "data": {
      "text/plain": [
       "(array([30771.,     0.,     0.,     0.,     0.,     0.,     0.,     0.,\n",
       "            0., 18635.]),\n",
       " array([0. , 0.1, 0.2, 0.3, 0.4, 0.5, 0.6, 0.7, 0.8, 0.9, 1. ]),\n",
       " <BarContainer object of 10 artists>)"
      ]
     },
     "execution_count": 39,
     "metadata": {},
     "output_type": "execute_result"
    },
    {
     "data": {
      "image/png": "[encoded data removed]",
      "text/plain": [
       "<Figure size 720x360 with 4 Axes>"
      ]
     },
     "metadata": {},
     "output_type": "display_data"
    }
   ],
   "source": [
    "#Examine the distribution of the categorical variables\n",
    "plt.figure(figsize = [10, 5]) # larger figure size for subplots\n",
    "\n",
    "# city\n",
    "plt.subplot(2, 2, 1) \n",
    "plt.hist(data = udc_df, x = 'city')\n",
    "\n",
    "# phone\n",
    "plt.subplot(2, 2, 2) \n",
    "plt.hist(data = udc_df, x = 'phone')\n",
    "\n",
    "#ultimate black user\n",
    "plt.subplot(2, 2, 3) \n",
    "plt.hist(data = udc_df, x = 'phone')\n",
    "\n",
    "#active\n",
    "plt.subplot(2, 2, 4)\n",
    "plt.hist(data = udc_df, x = 'active')"
   ]
  },
  {
   "cell_type": "code",
   "execution_count": 40,
   "metadata": {},
   "outputs": [
    {
     "name": "stdout",
     "output_type": "stream",
     "text": [
      "The percent of active users is: 0.4\n"
     ]
    }
   ],
   "source": [
    "print(\"The percent of active users is: {:.1f}\".format(udc_df['active'].sum()/len(udc_df)))"
   ]
  },
  {
   "cell_type": "markdown",
   "metadata": {},
   "source": [
    "**The categorical variables do not appear to be particularly skewed**"
   ]
  },
  {
   "cell_type": "markdown",
   "metadata": {},
   "source": [
    "\n",
    "## Modeling <a name='model'>"
   ]
  },
  {
   "cell_type": "markdown",
   "metadata": {},
   "source": [
    "A random forest model is used because of its efficiency and accuracy. An initial model is generated and then some hyperparameter tuning is performed."
   ]
  },
  {
   "cell_type": "code",
   "execution_count": 64,
   "metadata": {},
   "outputs": [],
   "source": [
    "#import packages\n",
    "from sklearn.ensemble import RandomForestClassifier\n",
    "from sklearn.model_selection import train_test_split\n",
    "from sklearn.metrics import accuracy_score, confusion_matrix, precision_score,  recall_score\n",
    "from sklearn.preprocessing import StandardScaler\n"
   ]
  },
  {
   "cell_type": "markdown",
   "metadata": {},
   "source": [
    "\n",
    "### Additional Preprocessing <a name = \"preprocess\">"
   ]
  },
  {
   "cell_type": "code",
   "execution_count": 43,
   "metadata": {},
   "outputs": [],
   "source": [
    "#Separate features and labels\n",
    "features = ['trips_in_first_30_days', 'avg_rating_of_driver', 'avg_surge', 'surge_pct', 'ultimate_black_user','weekday_pct', 'avg_dist', 'avg_rating_by_driver', 'city__Astapor', \"city__King's Landing\", 'city__Winterfell', 'phone__Android', 'phone__iPhone' ]\n",
    "X = df[features]\n",
    "y = df['active']"
   ]
  },
  {
   "cell_type": "code",
   "execution_count": 48,
   "metadata": {},
   "outputs": [],
   "source": [
    "#separate training and test data\n",
    "X_train, X_test, y_train, y_test = train_test_split(X, y, test_size = .2, stratify = y, random_state = 1)"
   ]
  },
  {
   "cell_type": "code",
   "execution_count": 49,
   "metadata": {},
   "outputs": [],
   "source": [
    "#Scale the features\n",
    "scaler = StandardScaler()\n",
    "\n",
    "X_train = scaler.fit_transform(X_train)\n",
    "X_test = scaler.transform(X_test)"
   ]
  },
  {
   "cell_type": "markdown",
   "metadata": {},
   "source": [
    "\n",
    "### Initial model <a name=\"initial\">"
   ]
  },
  {
   "cell_type": "code",
   "execution_count": 50,
   "metadata": {},
   "outputs": [
    {
     "data": {
      "text/plain": [
       "RandomForestClassifier(min_samples_leaf=0.12, n_estimators=200, random_state=1)"
      ]
     },
     "execution_count": 50,
     "metadata": {},
     "output_type": "execute_result"
    }
   ],
   "source": [
    "rf = RandomForestClassifier(n_estimators = 200, min_samples_leaf = 0.12, random_state = 1)\n",
    "\n",
    "rf.fit(X_train, y_train)"
   ]
  },
  {
   "cell_type": "code",
   "execution_count": 51,
   "metadata": {},
   "outputs": [],
   "source": [
    "y_pred = rf.predict(X_test)\n"
   ]
  },
  {
   "cell_type": "code",
   "execution_count": 52,
   "metadata": {},
   "outputs": [
    {
     "data": {
      "text/plain": [
       "array([0, 0, 0, ..., 0, 1, 0], dtype=uint8)"
      ]
     },
     "execution_count": 52,
     "metadata": {},
     "output_type": "execute_result"
    }
   ],
   "source": [
    "y_pred"
   ]
  },
  {
   "cell_type": "code",
   "execution_count": 53,
   "metadata": {},
   "outputs": [
    {
     "data": {
      "text/plain": [
       "0.7078526614045739"
      ]
     },
     "execution_count": 53,
     "metadata": {},
     "output_type": "execute_result"
    }
   ],
   "source": [
    "accuracy_score(y_test, y_pred)"
   ]
  },
  {
   "cell_type": "code",
   "execution_count": 74,
   "metadata": {},
   "outputs": [
    {
     "data": {
      "text/plain": [
       "0.7258064516129032"
      ]
     },
     "execution_count": 74,
     "metadata": {},
     "output_type": "execute_result"
    }
   ],
   "source": [
    "precision_score(y_test, y_pred)"
   ]
  },
  {
   "cell_type": "code",
   "execution_count": 75,
   "metadata": {},
   "outputs": [
    {
     "data": {
      "text/plain": [
       "0.36222162597263213"
      ]
     },
     "execution_count": 75,
     "metadata": {},
     "output_type": "execute_result"
    }
   ],
   "source": [
    "recall_score(y_test, y_pred)"
   ]
  },
  {
   "cell_type": "markdown",
   "metadata": {},
   "source": [
    "The initial model shows promise with a 70% accuracy. It is better than a default of labeling all as \"not active\" which would give 60% accuracy"
   ]
  },
  {
   "cell_type": "markdown",
   "metadata": {},
   "source": [
    "\n",
    "### Hyperparameter Tuning <a name=\"tuning\">"
   ]
  },
  {
   "cell_type": "code",
   "execution_count": 54,
   "metadata": {},
   "outputs": [],
   "source": [
    "from sklearn.model_selection import GridSearchCV\n",
    "\n",
    "rf_cv = RandomForestClassifier()\n",
    "\n",
    "params = {'n_estimators': [100, 250, 400], 'max_features' : ['auto', 'sqrt', 'log2'], 'min_samples_leaf': [1, 100, 1000]}\n",
    "\n",
    "grid_rf = GridSearchCV(estimator = rf_cv, param_grid = params, scoring = 'accuracy', cv = 5, verbose = 2)"
   ]
  },
  {
   "cell_type": "code",
   "execution_count": 55,
   "metadata": {},
   "outputs": [
    {
     "name": "stdout",
     "output_type": "stream",
     "text": [
      "Fitting 5 folds for each of 27 candidates, totalling 135 fits\n",
      "[CV] max_features=auto, min_samples_leaf=1, n_estimators=100 .........\n"
     ]
    },
    {
     "name": "stderr",
     "output_type": "stream",
     "text": [
      "[Parallel(n_jobs=1)]: Using backend SequentialBackend with 1 concurrent workers.\n"
     ]
    },
    {
     "name": "stdout",
     "output_type": "stream",
     "text": [
      "[CV]  max_features=auto, min_samples_leaf=1, n_estimators=100, total=   6.3s\n",
      "[CV] max_features=auto, min_samples_leaf=1, n_estimators=100 .........\n"
     ]
    },
    {
     "name": "stderr",
     "output_type": "stream",
     "text": [
      "[Parallel(n_jobs=1)]: Done   1 out of   1 | elapsed:    6.2s remaining:    0.0s\n"
     ]
    },
    {
     "name": "stdout",
     "output_type": "stream",
     "text": [
      "[CV]  max_features=auto, min_samples_leaf=1, n_estimators=100, total=   7.2s\n",
      "[CV] max_features=auto, min_samples_leaf=1, n_estimators=100 .........\n",
      "[CV]  max_features=auto, min_samples_leaf=1, n_estimators=100, total=   6.2s\n",
      "[CV] max_features=auto, min_samples_leaf=1, n_estimators=100 .........\n",
      "[CV]  max_features=auto, min_samples_leaf=1, n_estimators=100, total=   6.4s\n",
      "[CV] max_features=auto, min_samples_leaf=1, n_estimators=100 .........\n",
      "[CV]  max_features=auto, min_samples_leaf=1, n_estimators=100, total=   6.6s\n",
      "[CV] max_features=auto, min_samples_leaf=1, n_estimators=250 .........\n",
      "[CV]  max_features=auto, min_samples_leaf=1, n_estimators=250, total=  16.6s\n",
      "[CV] max_features=auto, min_samples_leaf=1, n_estimators=250 .........\n",
      "[CV]  max_features=auto, min_samples_leaf=1, n_estimators=250, total=  16.6s\n",
      "[CV] max_features=auto, min_samples_leaf=1, n_estimators=250 .........\n",
      "[CV]  max_features=auto, min_samples_leaf=1, n_estimators=250, total=  16.3s\n",
      "[CV] max_features=auto, min_samples_leaf=1, n_estimators=250 .........\n",
      "[CV]  max_features=auto, min_samples_leaf=1, n_estimators=250, total=  16.3s\n",
      "[CV] max_features=auto, min_samples_leaf=1, n_estimators=250 .........\n",
      "[CV]  max_features=auto, min_samples_leaf=1, n_estimators=250, total=  16.0s\n",
      "[CV] max_features=auto, min_samples_leaf=1, n_estimators=400 .........\n",
      "[CV]  max_features=auto, min_samples_leaf=1, n_estimators=400, total=  26.1s\n",
      "[CV] max_features=auto, min_samples_leaf=1, n_estimators=400 .........\n",
      "[CV]  max_features=auto, min_samples_leaf=1, n_estimators=400, total=  28.2s\n",
      "[CV] max_features=auto, min_samples_leaf=1, n_estimators=400 .........\n",
      "[CV]  max_features=auto, min_samples_leaf=1, n_estimators=400, total=  28.4s\n",
      "[CV] max_features=auto, min_samples_leaf=1, n_estimators=400 .........\n",
      "[CV]  max_features=auto, min_samples_leaf=1, n_estimators=400, total=  27.5s\n",
      "[CV] max_features=auto, min_samples_leaf=1, n_estimators=400 .........\n",
      "[CV]  max_features=auto, min_samples_leaf=1, n_estimators=400, total=  28.2s\n",
      "[CV] max_features=auto, min_samples_leaf=100, n_estimators=100 .......\n",
      "[CV]  max_features=auto, min_samples_leaf=100, n_estimators=100, total=   3.4s\n",
      "[CV] max_features=auto, min_samples_leaf=100, n_estimators=100 .......\n",
      "[CV]  max_features=auto, min_samples_leaf=100, n_estimators=100, total=   3.3s\n",
      "[CV] max_features=auto, min_samples_leaf=100, n_estimators=100 .......\n",
      "[CV]  max_features=auto, min_samples_leaf=100, n_estimators=100, total=   3.4s\n",
      "[CV] max_features=auto, min_samples_leaf=100, n_estimators=100 .......\n",
      "[CV]  max_features=auto, min_samples_leaf=100, n_estimators=100, total=   3.8s\n",
      "[CV] max_features=auto, min_samples_leaf=100, n_estimators=100 .......\n",
      "[CV]  max_features=auto, min_samples_leaf=100, n_estimators=100, total=   3.4s\n",
      "[CV] max_features=auto, min_samples_leaf=100, n_estimators=250 .......\n",
      "[CV]  max_features=auto, min_samples_leaf=100, n_estimators=250, total=   9.0s\n",
      "[CV] max_features=auto, min_samples_leaf=100, n_estimators=250 .......\n",
      "[CV]  max_features=auto, min_samples_leaf=100, n_estimators=250, total=   9.5s\n",
      "[CV] max_features=auto, min_samples_leaf=100, n_estimators=250 .......\n",
      "[CV]  max_features=auto, min_samples_leaf=100, n_estimators=250, total=  11.4s\n",
      "[CV] max_features=auto, min_samples_leaf=100, n_estimators=250 .......\n",
      "[CV]  max_features=auto, min_samples_leaf=100, n_estimators=250, total=   8.7s\n",
      "[CV] max_features=auto, min_samples_leaf=100, n_estimators=250 .......\n",
      "[CV]  max_features=auto, min_samples_leaf=100, n_estimators=250, total=   9.1s\n",
      "[CV] max_features=auto, min_samples_leaf=100, n_estimators=400 .......\n",
      "[CV]  max_features=auto, min_samples_leaf=100, n_estimators=400, total=  15.4s\n",
      "[CV] max_features=auto, min_samples_leaf=100, n_estimators=400 .......\n",
      "[CV]  max_features=auto, min_samples_leaf=100, n_estimators=400, total=  16.1s\n",
      "[CV] max_features=auto, min_samples_leaf=100, n_estimators=400 .......\n",
      "[CV]  max_features=auto, min_samples_leaf=100, n_estimators=400, total=  22.9s\n",
      "[CV] max_features=auto, min_samples_leaf=100, n_estimators=400 .......\n",
      "[CV]  max_features=auto, min_samples_leaf=100, n_estimators=400, total=  15.9s\n",
      "[CV] max_features=auto, min_samples_leaf=100, n_estimators=400 .......\n",
      "[CV]  max_features=auto, min_samples_leaf=100, n_estimators=400, total=  13.9s\n",
      "[CV] max_features=auto, min_samples_leaf=1000, n_estimators=100 ......\n",
      "[CV]  max_features=auto, min_samples_leaf=1000, n_estimators=100, total=   2.3s\n",
      "[CV] max_features=auto, min_samples_leaf=1000, n_estimators=100 ......\n",
      "[CV]  max_features=auto, min_samples_leaf=1000, n_estimators=100, total=   2.2s\n",
      "[CV] max_features=auto, min_samples_leaf=1000, n_estimators=100 ......\n",
      "[CV]  max_features=auto, min_samples_leaf=1000, n_estimators=100, total=   2.1s\n",
      "[CV] max_features=auto, min_samples_leaf=1000, n_estimators=100 ......\n",
      "[CV]  max_features=auto, min_samples_leaf=1000, n_estimators=100, total=   3.0s\n",
      "[CV] max_features=auto, min_samples_leaf=1000, n_estimators=100 ......\n",
      "[CV]  max_features=auto, min_samples_leaf=1000, n_estimators=100, total=   2.4s\n",
      "[CV] max_features=auto, min_samples_leaf=1000, n_estimators=250 ......\n",
      "[CV]  max_features=auto, min_samples_leaf=1000, n_estimators=250, total=   5.4s\n",
      "[CV] max_features=auto, min_samples_leaf=1000, n_estimators=250 ......\n",
      "[CV]  max_features=auto, min_samples_leaf=1000, n_estimators=250, total=   5.3s\n",
      "[CV] max_features=auto, min_samples_leaf=1000, n_estimators=250 ......\n",
      "[CV]  max_features=auto, min_samples_leaf=1000, n_estimators=250, total=   5.8s\n",
      "[CV] max_features=auto, min_samples_leaf=1000, n_estimators=250 ......\n",
      "[CV]  max_features=auto, min_samples_leaf=1000, n_estimators=250, total=   5.3s\n",
      "[CV] max_features=auto, min_samples_leaf=1000, n_estimators=250 ......\n",
      "[CV]  max_features=auto, min_samples_leaf=1000, n_estimators=250, total=   5.8s\n",
      "[CV] max_features=auto, min_samples_leaf=1000, n_estimators=400 ......\n",
      "[CV]  max_features=auto, min_samples_leaf=1000, n_estimators=400, total=   8.9s\n",
      "[CV] max_features=auto, min_samples_leaf=1000, n_estimators=400 ......\n",
      "[CV]  max_features=auto, min_samples_leaf=1000, n_estimators=400, total=   8.8s\n",
      "[CV] max_features=auto, min_samples_leaf=1000, n_estimators=400 ......\n",
      "[CV]  max_features=auto, min_samples_leaf=1000, n_estimators=400, total=   8.5s\n",
      "[CV] max_features=auto, min_samples_leaf=1000, n_estimators=400 ......\n",
      "[CV]  max_features=auto, min_samples_leaf=1000, n_estimators=400, total=   8.8s\n",
      "[CV] max_features=auto, min_samples_leaf=1000, n_estimators=400 ......\n",
      "[CV]  max_features=auto, min_samples_leaf=1000, n_estimators=400, total=   8.4s\n",
      "[CV] max_features=sqrt, min_samples_leaf=1, n_estimators=100 .........\n",
      "[CV]  max_features=sqrt, min_samples_leaf=1, n_estimators=100, total=   6.4s\n",
      "[CV] max_features=sqrt, min_samples_leaf=1, n_estimators=100 .........\n",
      "[CV]  max_features=sqrt, min_samples_leaf=1, n_estimators=100, total=   6.2s\n",
      "[CV] max_features=sqrt, min_samples_leaf=1, n_estimators=100 .........\n",
      "[CV]  max_features=sqrt, min_samples_leaf=1, n_estimators=100, total=   6.0s\n",
      "[CV] max_features=sqrt, min_samples_leaf=1, n_estimators=100 .........\n",
      "[CV]  max_features=sqrt, min_samples_leaf=1, n_estimators=100, total=   6.3s\n",
      "[CV] max_features=sqrt, min_samples_leaf=1, n_estimators=100 .........\n",
      "[CV]  max_features=sqrt, min_samples_leaf=1, n_estimators=100, total=   6.0s\n",
      "[CV] max_features=sqrt, min_samples_leaf=1, n_estimators=250 .........\n",
      "[CV]  max_features=sqrt, min_samples_leaf=1, n_estimators=250, total=  15.4s\n",
      "[CV] max_features=sqrt, min_samples_leaf=1, n_estimators=250 .........\n",
      "[CV]  max_features=sqrt, min_samples_leaf=1, n_estimators=250, total=  16.5s\n",
      "[CV] max_features=sqrt, min_samples_leaf=1, n_estimators=250 .........\n",
      "[CV]  max_features=sqrt, min_samples_leaf=1, n_estimators=250, total=  15.4s\n",
      "[CV] max_features=sqrt, min_samples_leaf=1, n_estimators=250 .........\n",
      "[CV]  max_features=sqrt, min_samples_leaf=1, n_estimators=250, total=  15.3s\n",
      "[CV] max_features=sqrt, min_samples_leaf=1, n_estimators=250 .........\n",
      "[CV]  max_features=sqrt, min_samples_leaf=1, n_estimators=250, total=  15.8s\n",
      "[CV] max_features=sqrt, min_samples_leaf=1, n_estimators=400 .........\n",
      "[CV]  max_features=sqrt, min_samples_leaf=1, n_estimators=400, total=  24.8s\n",
      "[CV] max_features=sqrt, min_samples_leaf=1, n_estimators=400 .........\n"
     ]
    },
    {
     "name": "stdout",
     "output_type": "stream",
     "text": [
      "[CV]  max_features=sqrt, min_samples_leaf=1, n_estimators=400, total=  24.3s\n",
      "[CV] max_features=sqrt, min_samples_leaf=1, n_estimators=400 .........\n",
      "[CV]  max_features=sqrt, min_samples_leaf=1, n_estimators=400, total=  27.6s\n",
      "[CV] max_features=sqrt, min_samples_leaf=1, n_estimators=400 .........\n",
      "[CV]  max_features=sqrt, min_samples_leaf=1, n_estimators=400, total=  27.0s\n",
      "[CV] max_features=sqrt, min_samples_leaf=1, n_estimators=400 .........\n",
      "[CV]  max_features=sqrt, min_samples_leaf=1, n_estimators=400, total=  24.2s\n",
      "[CV] max_features=sqrt, min_samples_leaf=100, n_estimators=100 .......\n",
      "[CV]  max_features=sqrt, min_samples_leaf=100, n_estimators=100, total=   3.3s\n",
      "[CV] max_features=sqrt, min_samples_leaf=100, n_estimators=100 .......\n",
      "[CV]  max_features=sqrt, min_samples_leaf=100, n_estimators=100, total=   3.5s\n",
      "[CV] max_features=sqrt, min_samples_leaf=100, n_estimators=100 .......\n",
      "[CV]  max_features=sqrt, min_samples_leaf=100, n_estimators=100, total=   3.4s\n",
      "[CV] max_features=sqrt, min_samples_leaf=100, n_estimators=100 .......\n",
      "[CV]  max_features=sqrt, min_samples_leaf=100, n_estimators=100, total=   3.3s\n",
      "[CV] max_features=sqrt, min_samples_leaf=100, n_estimators=100 .......\n",
      "[CV]  max_features=sqrt, min_samples_leaf=100, n_estimators=100, total=   3.5s\n",
      "[CV] max_features=sqrt, min_samples_leaf=100, n_estimators=250 .......\n",
      "[CV]  max_features=sqrt, min_samples_leaf=100, n_estimators=250, total=   8.4s\n",
      "[CV] max_features=sqrt, min_samples_leaf=100, n_estimators=250 .......\n",
      "[CV]  max_features=sqrt, min_samples_leaf=100, n_estimators=250, total=   8.0s\n",
      "[CV] max_features=sqrt, min_samples_leaf=100, n_estimators=250 .......\n",
      "[CV]  max_features=sqrt, min_samples_leaf=100, n_estimators=250, total=   8.4s\n",
      "[CV] max_features=sqrt, min_samples_leaf=100, n_estimators=250 .......\n",
      "[CV]  max_features=sqrt, min_samples_leaf=100, n_estimators=250, total=   7.9s\n",
      "[CV] max_features=sqrt, min_samples_leaf=100, n_estimators=250 .......\n",
      "[CV]  max_features=sqrt, min_samples_leaf=100, n_estimators=250, total=   8.6s\n",
      "[CV] max_features=sqrt, min_samples_leaf=100, n_estimators=400 .......\n",
      "[CV]  max_features=sqrt, min_samples_leaf=100, n_estimators=400, total=  13.2s\n",
      "[CV] max_features=sqrt, min_samples_leaf=100, n_estimators=400 .......\n",
      "[CV]  max_features=sqrt, min_samples_leaf=100, n_estimators=400, total=  14.8s\n",
      "[CV] max_features=sqrt, min_samples_leaf=100, n_estimators=400 .......\n",
      "[CV]  max_features=sqrt, min_samples_leaf=100, n_estimators=400, total=  12.9s\n",
      "[CV] max_features=sqrt, min_samples_leaf=100, n_estimators=400 .......\n",
      "[CV]  max_features=sqrt, min_samples_leaf=100, n_estimators=400, total=  13.3s\n",
      "[CV] max_features=sqrt, min_samples_leaf=100, n_estimators=400 .......\n",
      "[CV]  max_features=sqrt, min_samples_leaf=100, n_estimators=400, total=  13.1s\n",
      "[CV] max_features=sqrt, min_samples_leaf=1000, n_estimators=100 ......\n",
      "[CV]  max_features=sqrt, min_samples_leaf=1000, n_estimators=100, total=   2.1s\n",
      "[CV] max_features=sqrt, min_samples_leaf=1000, n_estimators=100 ......\n",
      "[CV]  max_features=sqrt, min_samples_leaf=1000, n_estimators=100, total=   2.1s\n",
      "[CV] max_features=sqrt, min_samples_leaf=1000, n_estimators=100 ......\n",
      "[CV]  max_features=sqrt, min_samples_leaf=1000, n_estimators=100, total=   2.1s\n",
      "[CV] max_features=sqrt, min_samples_leaf=1000, n_estimators=100 ......\n",
      "[CV]  max_features=sqrt, min_samples_leaf=1000, n_estimators=100, total=   2.4s\n",
      "[CV] max_features=sqrt, min_samples_leaf=1000, n_estimators=100 ......\n",
      "[CV]  max_features=sqrt, min_samples_leaf=1000, n_estimators=100, total=   2.5s\n",
      "[CV] max_features=sqrt, min_samples_leaf=1000, n_estimators=250 ......\n",
      "[CV]  max_features=sqrt, min_samples_leaf=1000, n_estimators=250, total=   5.3s\n",
      "[CV] max_features=sqrt, min_samples_leaf=1000, n_estimators=250 ......\n",
      "[CV]  max_features=sqrt, min_samples_leaf=1000, n_estimators=250, total=   5.5s\n",
      "[CV] max_features=sqrt, min_samples_leaf=1000, n_estimators=250 ......\n",
      "[CV]  max_features=sqrt, min_samples_leaf=1000, n_estimators=250, total=   5.7s\n",
      "[CV] max_features=sqrt, min_samples_leaf=1000, n_estimators=250 ......\n",
      "[CV]  max_features=sqrt, min_samples_leaf=1000, n_estimators=250, total=   5.3s\n",
      "[CV] max_features=sqrt, min_samples_leaf=1000, n_estimators=250 ......\n",
      "[CV]  max_features=sqrt, min_samples_leaf=1000, n_estimators=250, total=   5.3s\n",
      "[CV] max_features=sqrt, min_samples_leaf=1000, n_estimators=400 ......\n",
      "[CV]  max_features=sqrt, min_samples_leaf=1000, n_estimators=400, total=  12.9s\n",
      "[CV] max_features=sqrt, min_samples_leaf=1000, n_estimators=400 ......\n",
      "[CV]  max_features=sqrt, min_samples_leaf=1000, n_estimators=400, total=  11.3s\n",
      "[CV] max_features=sqrt, min_samples_leaf=1000, n_estimators=400 ......\n",
      "[CV]  max_features=sqrt, min_samples_leaf=1000, n_estimators=400, total=   9.6s\n",
      "[CV] max_features=sqrt, min_samples_leaf=1000, n_estimators=400 ......\n",
      "[CV]  max_features=sqrt, min_samples_leaf=1000, n_estimators=400, total=  10.5s\n",
      "[CV] max_features=sqrt, min_samples_leaf=1000, n_estimators=400 ......\n",
      "[CV]  max_features=sqrt, min_samples_leaf=1000, n_estimators=400, total=   9.8s\n",
      "[CV] max_features=log2, min_samples_leaf=1, n_estimators=100 .........\n",
      "[CV]  max_features=log2, min_samples_leaf=1, n_estimators=100, total=   6.2s\n",
      "[CV] max_features=log2, min_samples_leaf=1, n_estimators=100 .........\n",
      "[CV]  max_features=log2, min_samples_leaf=1, n_estimators=100, total=   6.2s\n",
      "[CV] max_features=log2, min_samples_leaf=1, n_estimators=100 .........\n",
      "[CV]  max_features=log2, min_samples_leaf=1, n_estimators=100, total=   6.1s\n",
      "[CV] max_features=log2, min_samples_leaf=1, n_estimators=100 .........\n",
      "[CV]  max_features=log2, min_samples_leaf=1, n_estimators=100, total=   6.3s\n",
      "[CV] max_features=log2, min_samples_leaf=1, n_estimators=100 .........\n",
      "[CV]  max_features=log2, min_samples_leaf=1, n_estimators=100, total=   6.3s\n",
      "[CV] max_features=log2, min_samples_leaf=1, n_estimators=250 .........\n",
      "[CV]  max_features=log2, min_samples_leaf=1, n_estimators=250, total=  15.3s\n",
      "[CV] max_features=log2, min_samples_leaf=1, n_estimators=250 .........\n",
      "[CV]  max_features=log2, min_samples_leaf=1, n_estimators=250, total=  15.6s\n",
      "[CV] max_features=log2, min_samples_leaf=1, n_estimators=250 .........\n",
      "[CV]  max_features=log2, min_samples_leaf=1, n_estimators=250, total=  15.3s\n",
      "[CV] max_features=log2, min_samples_leaf=1, n_estimators=250 .........\n",
      "[CV]  max_features=log2, min_samples_leaf=1, n_estimators=250, total=  15.8s\n",
      "[CV] max_features=log2, min_samples_leaf=1, n_estimators=250 .........\n",
      "[CV]  max_features=log2, min_samples_leaf=1, n_estimators=250, total=  15.9s\n",
      "[CV] max_features=log2, min_samples_leaf=1, n_estimators=400 .........\n",
      "[CV]  max_features=log2, min_samples_leaf=1, n_estimators=400, total=  24.7s\n",
      "[CV] max_features=log2, min_samples_leaf=1, n_estimators=400 .........\n",
      "[CV]  max_features=log2, min_samples_leaf=1, n_estimators=400, total=  24.9s\n",
      "[CV] max_features=log2, min_samples_leaf=1, n_estimators=400 .........\n",
      "[CV]  max_features=log2, min_samples_leaf=1, n_estimators=400, total=  24.5s\n",
      "[CV] max_features=log2, min_samples_leaf=1, n_estimators=400 .........\n",
      "[CV]  max_features=log2, min_samples_leaf=1, n_estimators=400, total=  25.0s\n",
      "[CV] max_features=log2, min_samples_leaf=1, n_estimators=400 .........\n",
      "[CV]  max_features=log2, min_samples_leaf=1, n_estimators=400, total=  24.2s\n",
      "[CV] max_features=log2, min_samples_leaf=100, n_estimators=100 .......\n",
      "[CV]  max_features=log2, min_samples_leaf=100, n_estimators=100, total=   3.4s\n",
      "[CV] max_features=log2, min_samples_leaf=100, n_estimators=100 .......\n",
      "[CV]  max_features=log2, min_samples_leaf=100, n_estimators=100, total=   3.7s\n",
      "[CV] max_features=log2, min_samples_leaf=100, n_estimators=100 .......\n",
      "[CV]  max_features=log2, min_samples_leaf=100, n_estimators=100, total=   3.2s\n",
      "[CV] max_features=log2, min_samples_leaf=100, n_estimators=100 .......\n",
      "[CV]  max_features=log2, min_samples_leaf=100, n_estimators=100, total=   3.4s\n",
      "[CV] max_features=log2, min_samples_leaf=100, n_estimators=100 .......\n",
      "[CV]  max_features=log2, min_samples_leaf=100, n_estimators=100, total=   3.2s\n",
      "[CV] max_features=log2, min_samples_leaf=100, n_estimators=250 .......\n",
      "[CV]  max_features=log2, min_samples_leaf=100, n_estimators=250, total=   8.3s\n",
      "[CV] max_features=log2, min_samples_leaf=100, n_estimators=250 .......\n"
     ]
    },
    {
     "name": "stdout",
     "output_type": "stream",
     "text": [
      "[CV]  max_features=log2, min_samples_leaf=100, n_estimators=250, total=   8.1s\n",
      "[CV] max_features=log2, min_samples_leaf=100, n_estimators=250 .......\n",
      "[CV]  max_features=log2, min_samples_leaf=100, n_estimators=250, total=   8.6s\n",
      "[CV] max_features=log2, min_samples_leaf=100, n_estimators=250 .......\n",
      "[CV]  max_features=log2, min_samples_leaf=100, n_estimators=250, total=   7.9s\n",
      "[CV] max_features=log2, min_samples_leaf=100, n_estimators=250 .......\n",
      "[CV]  max_features=log2, min_samples_leaf=100, n_estimators=250, total=   8.5s\n",
      "[CV] max_features=log2, min_samples_leaf=100, n_estimators=400 .......\n",
      "[CV]  max_features=log2, min_samples_leaf=100, n_estimators=400, total=  13.2s\n",
      "[CV] max_features=log2, min_samples_leaf=100, n_estimators=400 .......\n",
      "[CV]  max_features=log2, min_samples_leaf=100, n_estimators=400, total=  13.3s\n",
      "[CV] max_features=log2, min_samples_leaf=100, n_estimators=400 .......\n",
      "[CV]  max_features=log2, min_samples_leaf=100, n_estimators=400, total=  12.6s\n",
      "[CV] max_features=log2, min_samples_leaf=100, n_estimators=400 .......\n",
      "[CV]  max_features=log2, min_samples_leaf=100, n_estimators=400, total=  13.4s\n",
      "[CV] max_features=log2, min_samples_leaf=100, n_estimators=400 .......\n",
      "[CV]  max_features=log2, min_samples_leaf=100, n_estimators=400, total=  13.3s\n",
      "[CV] max_features=log2, min_samples_leaf=1000, n_estimators=100 ......\n",
      "[CV]  max_features=log2, min_samples_leaf=1000, n_estimators=100, total=   2.4s\n",
      "[CV] max_features=log2, min_samples_leaf=1000, n_estimators=100 ......\n",
      "[CV]  max_features=log2, min_samples_leaf=1000, n_estimators=100, total=   2.3s\n",
      "[CV] max_features=log2, min_samples_leaf=1000, n_estimators=100 ......\n",
      "[CV]  max_features=log2, min_samples_leaf=1000, n_estimators=100, total=   2.4s\n",
      "[CV] max_features=log2, min_samples_leaf=1000, n_estimators=100 ......\n",
      "[CV]  max_features=log2, min_samples_leaf=1000, n_estimators=100, total=   2.5s\n",
      "[CV] max_features=log2, min_samples_leaf=1000, n_estimators=100 ......\n",
      "[CV]  max_features=log2, min_samples_leaf=1000, n_estimators=100, total=   2.2s\n",
      "[CV] max_features=log2, min_samples_leaf=1000, n_estimators=250 ......\n",
      "[CV]  max_features=log2, min_samples_leaf=1000, n_estimators=250, total=   5.4s\n",
      "[CV] max_features=log2, min_samples_leaf=1000, n_estimators=250 ......\n",
      "[CV]  max_features=log2, min_samples_leaf=1000, n_estimators=250, total=   5.2s\n",
      "[CV] max_features=log2, min_samples_leaf=1000, n_estimators=250 ......\n",
      "[CV]  max_features=log2, min_samples_leaf=1000, n_estimators=250, total=   5.8s\n",
      "[CV] max_features=log2, min_samples_leaf=1000, n_estimators=250 ......\n",
      "[CV]  max_features=log2, min_samples_leaf=1000, n_estimators=250, total=   5.3s\n",
      "[CV] max_features=log2, min_samples_leaf=1000, n_estimators=250 ......\n",
      "[CV]  max_features=log2, min_samples_leaf=1000, n_estimators=250, total=   5.7s\n",
      "[CV] max_features=log2, min_samples_leaf=1000, n_estimators=400 ......\n",
      "[CV]  max_features=log2, min_samples_leaf=1000, n_estimators=400, total=   8.8s\n",
      "[CV] max_features=log2, min_samples_leaf=1000, n_estimators=400 ......\n",
      "[CV]  max_features=log2, min_samples_leaf=1000, n_estimators=400, total=   9.0s\n",
      "[CV] max_features=log2, min_samples_leaf=1000, n_estimators=400 ......\n",
      "[CV]  max_features=log2, min_samples_leaf=1000, n_estimators=400, total=   8.5s\n",
      "[CV] max_features=log2, min_samples_leaf=1000, n_estimators=400 ......\n",
      "[CV]  max_features=log2, min_samples_leaf=1000, n_estimators=400, total=   9.1s\n",
      "[CV] max_features=log2, min_samples_leaf=1000, n_estimators=400 ......\n",
      "[CV]  max_features=log2, min_samples_leaf=1000, n_estimators=400, total=   8.7s\n"
     ]
    },
    {
     "name": "stderr",
     "output_type": "stream",
     "text": [
      "[Parallel(n_jobs=1)]: Done 135 out of 135 | elapsed: 23.0min finished\n"
     ]
    },
    {
     "data": {
      "text/plain": [
       "GridSearchCV(cv=5, estimator=RandomForestClassifier(),\n",
       "             param_grid={'max_features': ['auto', 'sqrt', 'log2'],\n",
       "                         'min_samples_leaf': [1, 100, 1000],\n",
       "                         'n_estimators': [100, 250, 400]},\n",
       "             scoring='accuracy', verbose=2)"
      ]
     },
     "execution_count": 55,
     "metadata": {},
     "output_type": "execute_result"
    }
   ],
   "source": [
    "grid_rf.fit(X_train, y_train)"
   ]
  },
  {
   "cell_type": "code",
   "execution_count": 56,
   "metadata": {},
   "outputs": [
    {
     "data": {
      "text/plain": [
       "{'max_features': 'log2', 'min_samples_leaf': 100, 'n_estimators': 100}"
      ]
     },
     "execution_count": 56,
     "metadata": {},
     "output_type": "execute_result"
    }
   ],
   "source": [
    "grid_rf.best_params_"
   ]
  },
  {
   "cell_type": "code",
   "execution_count": 57,
   "metadata": {},
   "outputs": [],
   "source": [
    "best_model = RandomForestClassifier(n_estimators = 100, min_samples_leaf = 1, max_features = 'log2')"
   ]
  },
  {
   "cell_type": "code",
   "execution_count": 59,
   "metadata": {},
   "outputs": [
    {
     "data": {
      "text/plain": [
       "RandomForestClassifier(max_features='log2')"
      ]
     },
     "execution_count": 59,
     "metadata": {},
     "output_type": "execute_result"
    }
   ],
   "source": [
    "best_model.fit(X_train, y_train)"
   ]
  },
  {
   "cell_type": "code",
   "execution_count": 61,
   "metadata": {},
   "outputs": [
    {
     "data": {
      "text/plain": [
       "0.756729407002631"
      ]
     },
     "execution_count": 61,
     "metadata": {},
     "output_type": "execute_result"
    }
   ],
   "source": [
    "preds = best_model.predict(X_test)\n",
    "accuracy_score(y_test, preds)"
   ]
  },
  {
   "cell_type": "code",
   "execution_count": 63,
   "metadata": {},
   "outputs": [
    {
     "data": {
      "text/plain": [
       "array([[5036, 1119],\n",
       "       [1285, 2442]], dtype=int64)"
      ]
     },
     "execution_count": 63,
     "metadata": {},
     "output_type": "execute_result"
    }
   ],
   "source": [
    "confusion_matrix(y_test, preds)"
   ]
  },
  {
   "cell_type": "code",
   "execution_count": 65,
   "metadata": {},
   "outputs": [
    {
     "data": {
      "text/plain": [
       "0.6857624262847515"
      ]
     },
     "execution_count": 65,
     "metadata": {},
     "output_type": "execute_result"
    }
   ],
   "source": [
    "precision_score(y_test, preds)"
   ]
  },
  {
   "cell_type": "code",
   "execution_count": 66,
   "metadata": {},
   "outputs": [
    {
     "data": {
      "text/plain": [
       "0.6552186745371612"
      ]
     },
     "execution_count": 66,
     "metadata": {},
     "output_type": "execute_result"
    }
   ],
   "source": [
    "recall_score(y_test, preds)"
   ]
  },
  {
   "cell_type": "code",
   "execution_count": 67,
   "metadata": {},
   "outputs": [],
   "source": [
    "#determine how important each feature is\n",
    "importances = best_model.feature_importances_\n",
    "\n",
    "# Sort the feature importance in descending order\n",
    "sorted_indices = np.argsort(importances)[::-1]"
   ]
  },
  {
   "cell_type": "code",
   "execution_count": 71,
   "metadata": {},
   "outputs": [
    {
     "data": {
      "image/png": "[encoded data removed]",
      "text/plain": [
       "<Figure size 432x288 with 1 Axes>"
      ]
     },
     "metadata": {},
     "output_type": "display_data"
    }
   ],
   "source": [
    "plt.title('Feature Importance')\n",
    "plt.bar(range(X_train.shape[1]), importances[sorted_indices], align='center')\n",
    "plt.xticks(range(X_train.shape[1]), X.columns[sorted_indices], rotation=90)\n",
    "plt.tight_layout()\n",
    "plt.show()"
   ]
  },
  {
   "cell_type": "markdown",
   "metadata": {},
   "source": [
    "\n",
    "### Summary and Recommendations <a name=\"recommend\">"
   ]
  },
  {
   "cell_type": "markdown",
   "metadata": {},
   "source": [
    "With minimal hyperparameter tuning, the model obtained a 75.7% accuracy and a marked increase in the recall score from the initial model. With additional time investment, further tuning can be performed and other models tried.\n",
    "\n",
    "Using the model may allow Ultimate to target promotions toward riders that will likely be lost otherwise to increase retention. Additionally, focusing on increasing the occurance of the more important features may help. For example, offer a discount for rides over a certain distance to increase average distance traveled."
   ]
  },
  {
   "cell_type": "code",
   "execution_count": null,
   "metadata": {},
   "outputs": [],
   "source": []
  }
 ],
 "metadata": {
  "kernelspec": {
   "display_name": "Python 3",
   "language": "python",
   "name": "python3"
  },
  "language_info": {
   "codemirror_mode": {
    "name": "ipython",
    "version": 3
   },
   "file_extension": ".py",
   "mimetype": "text/x-python",
   "name": "python",
   "nbconvert_exporter": "python",
   "pygments_lexer": "ipython3",
   "version": "3.8.5"
  }
 },
 "nbformat": 4,
 "nbformat_minor": 4
}
